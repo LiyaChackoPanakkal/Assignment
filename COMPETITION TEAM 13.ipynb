{
 "cells": [
  {
   "cell_type": "markdown",
   "id": "5517eff0",
   "metadata": {},
   "source": [
    "# Data Description:\n",
    "    The data is related with direct marketing campaigns of a  banking institution. The marketing campaigns were based on phone calls. Often, more than one contact to the same client was required, in order to access if the product (bank term deposit) would be ('yes') or not ('no') subscribed.\n",
    "   \n",
    "   **Objective:**\n",
    "   **The classification goal is to predict if the client will subscribe (yes/no) a term deposit (variable y).**\n",
    "    \n",
    "    Steps and tasks:\n",
    "\n",
    "    Import the necessary libraries\n",
    "    1.Read the dataset to python environment.\n",
    "    2.Perfron basic data preprocessing techniques.\n",
    "    3.Detection and handling outliers.\n",
    "    4.Perform basic EDA which should include the following and point out your inferences.\n",
    "    5.Prepare best fit model to the given classification problem\n",
    "    6.Fine tunig of the model to enhance their performance.\n",
    "    \n",
    "   **Dataset parameters:-**\n",
    "    \n",
    "    1.age (numeric)\n",
    "    2.job : type of job  (categorical:admin.','bluecollar','entrepreneur','housemaid','management','retired','selfemployed','services','student','technician','unemployed','unknown')\n",
    "    3.marital : marital status (categorical:'divorced','married','single','unknown'; note: 'divorced' means divorced or widowed)\n",
    "    4.education (categorical: 'primary','secondary','tertiary','unknown')\n",
    "    5.default: has credit in default? (categorical: 'no','yes','unknown')\n",
    "    6.balance: average yearly balance, in euros (numeric)\n",
    "    7.housing: has housing loan? (categorical: 'no','yes','unknown')\n",
    "    8.loan: has personal loan? (categorical: 'no','yes','unknown')\n",
    "    9.contact: contact communication type (categorical:'cellular','telephone')\n",
    "    10.day: last contact day of the month (numeric 1 -31)\n",
    "    11.month: last contact month of year (categorical: 'jan', 'feb','mar', …, 'nov', 'dec')\n",
    "    12.duration: last contact duration, in seconds (numeric).\n",
    "    13.campaign: number of contacts performed during this campaign and for this client (numeric, includes last contact)\n",
    "    14.pdays: number of days that passed by after the client was last contacted from a previous campaign (numeric; 999 means client was not previously contacted)\n",
    "    15.previous: number of contacts performed before this campaign and for this client (numeric)\n",
    "    16.poutcome: outcome of the previous marketing campaign(categorical: 'failure','nonexistent','success')\n",
    "    17.target: has the client subscribed a term deposit? (binary:\"yes\",\"no\")"
   ]
  },
  {
   "cell_type": "code",
   "execution_count": 1,
   "id": "03425298",
   "metadata": {},
   "outputs": [],
   "source": [
    "import numpy as np\n",
    "import pandas as pd\n",
    "import seaborn as sns\n",
    "import matplotlib.pyplot as plt\n",
    "import warnings\n",
    "warnings.filterwarnings('ignore')"
   ]
  },
  {
   "cell_type": "markdown",
   "id": "d632073d",
   "metadata": {},
   "source": [
    "## 1. Reading the dataset to python environment"
   ]
  },
  {
   "cell_type": "code",
   "execution_count": 2,
   "id": "528cc2b9",
   "metadata": {},
   "outputs": [],
   "source": [
    "bank=pd.read_csv('bank-full.csv')"
   ]
  },
  {
   "cell_type": "code",
   "execution_count": 3,
   "id": "27682279",
   "metadata": {},
   "outputs": [
    {
     "data": {
      "text/html": [
       "<div>\n",
       "<style scoped>\n",
       "    .dataframe tbody tr th:only-of-type {\n",
       "        vertical-align: middle;\n",
       "    }\n",
       "\n",
       "    .dataframe tbody tr th {\n",
       "        vertical-align: top;\n",
       "    }\n",
       "\n",
       "    .dataframe thead th {\n",
       "        text-align: right;\n",
       "    }\n",
       "</style>\n",
       "<table border=\"1\" class=\"dataframe\">\n",
       "  <thead>\n",
       "    <tr style=\"text-align: right;\">\n",
       "      <th></th>\n",
       "      <th>age</th>\n",
       "      <th>job</th>\n",
       "      <th>marital</th>\n",
       "      <th>education</th>\n",
       "      <th>default</th>\n",
       "      <th>balance</th>\n",
       "      <th>housing</th>\n",
       "      <th>loan</th>\n",
       "      <th>contact</th>\n",
       "      <th>day</th>\n",
       "      <th>month</th>\n",
       "      <th>duration</th>\n",
       "      <th>campaign</th>\n",
       "      <th>pdays</th>\n",
       "      <th>previous</th>\n",
       "      <th>poutcome</th>\n",
       "      <th>Target</th>\n",
       "    </tr>\n",
       "  </thead>\n",
       "  <tbody>\n",
       "    <tr>\n",
       "      <th>0</th>\n",
       "      <td>58</td>\n",
       "      <td>management</td>\n",
       "      <td>married</td>\n",
       "      <td>tertiary</td>\n",
       "      <td>no</td>\n",
       "      <td>2143</td>\n",
       "      <td>yes</td>\n",
       "      <td>no</td>\n",
       "      <td>unknown</td>\n",
       "      <td>5</td>\n",
       "      <td>may</td>\n",
       "      <td>261</td>\n",
       "      <td>1</td>\n",
       "      <td>-1</td>\n",
       "      <td>0</td>\n",
       "      <td>unknown</td>\n",
       "      <td>no</td>\n",
       "    </tr>\n",
       "    <tr>\n",
       "      <th>1</th>\n",
       "      <td>44</td>\n",
       "      <td>technician</td>\n",
       "      <td>single</td>\n",
       "      <td>secondary</td>\n",
       "      <td>no</td>\n",
       "      <td>29</td>\n",
       "      <td>yes</td>\n",
       "      <td>no</td>\n",
       "      <td>unknown</td>\n",
       "      <td>5</td>\n",
       "      <td>may</td>\n",
       "      <td>151</td>\n",
       "      <td>1</td>\n",
       "      <td>-1</td>\n",
       "      <td>0</td>\n",
       "      <td>unknown</td>\n",
       "      <td>no</td>\n",
       "    </tr>\n",
       "    <tr>\n",
       "      <th>2</th>\n",
       "      <td>33</td>\n",
       "      <td>entrepreneur</td>\n",
       "      <td>married</td>\n",
       "      <td>secondary</td>\n",
       "      <td>no</td>\n",
       "      <td>2</td>\n",
       "      <td>yes</td>\n",
       "      <td>yes</td>\n",
       "      <td>unknown</td>\n",
       "      <td>5</td>\n",
       "      <td>may</td>\n",
       "      <td>76</td>\n",
       "      <td>1</td>\n",
       "      <td>-1</td>\n",
       "      <td>0</td>\n",
       "      <td>unknown</td>\n",
       "      <td>no</td>\n",
       "    </tr>\n",
       "    <tr>\n",
       "      <th>3</th>\n",
       "      <td>47</td>\n",
       "      <td>blue-collar</td>\n",
       "      <td>married</td>\n",
       "      <td>unknown</td>\n",
       "      <td>no</td>\n",
       "      <td>1506</td>\n",
       "      <td>yes</td>\n",
       "      <td>no</td>\n",
       "      <td>unknown</td>\n",
       "      <td>5</td>\n",
       "      <td>may</td>\n",
       "      <td>92</td>\n",
       "      <td>1</td>\n",
       "      <td>-1</td>\n",
       "      <td>0</td>\n",
       "      <td>unknown</td>\n",
       "      <td>no</td>\n",
       "    </tr>\n",
       "    <tr>\n",
       "      <th>4</th>\n",
       "      <td>33</td>\n",
       "      <td>unknown</td>\n",
       "      <td>single</td>\n",
       "      <td>unknown</td>\n",
       "      <td>no</td>\n",
       "      <td>1</td>\n",
       "      <td>no</td>\n",
       "      <td>no</td>\n",
       "      <td>unknown</td>\n",
       "      <td>5</td>\n",
       "      <td>may</td>\n",
       "      <td>198</td>\n",
       "      <td>1</td>\n",
       "      <td>-1</td>\n",
       "      <td>0</td>\n",
       "      <td>unknown</td>\n",
       "      <td>no</td>\n",
       "    </tr>\n",
       "  </tbody>\n",
       "</table>\n",
       "</div>"
      ],
      "text/plain": [
       "   age           job  marital  education default  balance housing loan  \\\n",
       "0   58    management  married   tertiary      no     2143     yes   no   \n",
       "1   44    technician   single  secondary      no       29     yes   no   \n",
       "2   33  entrepreneur  married  secondary      no        2     yes  yes   \n",
       "3   47   blue-collar  married    unknown      no     1506     yes   no   \n",
       "4   33       unknown   single    unknown      no        1      no   no   \n",
       "\n",
       "   contact  day month  duration  campaign  pdays  previous poutcome Target  \n",
       "0  unknown    5   may       261         1     -1         0  unknown     no  \n",
       "1  unknown    5   may       151         1     -1         0  unknown     no  \n",
       "2  unknown    5   may        76         1     -1         0  unknown     no  \n",
       "3  unknown    5   may        92         1     -1         0  unknown     no  \n",
       "4  unknown    5   may       198         1     -1         0  unknown     no  "
      ]
     },
     "execution_count": 3,
     "metadata": {},
     "output_type": "execute_result"
    }
   ],
   "source": [
    "bank.head()"
   ]
  },
  {
   "cell_type": "code",
   "execution_count": 4,
   "id": "ccc8b751",
   "metadata": {},
   "outputs": [
    {
     "name": "stdout",
     "output_type": "stream",
     "text": [
      "<class 'pandas.core.frame.DataFrame'>\n",
      "RangeIndex: 45211 entries, 0 to 45210\n",
      "Data columns (total 17 columns):\n",
      " #   Column     Non-Null Count  Dtype \n",
      "---  ------     --------------  ----- \n",
      " 0   age        45211 non-null  int64 \n",
      " 1   job        45211 non-null  object\n",
      " 2   marital    45211 non-null  object\n",
      " 3   education  45211 non-null  object\n",
      " 4   default    45211 non-null  object\n",
      " 5   balance    45211 non-null  int64 \n",
      " 6   housing    45211 non-null  object\n",
      " 7   loan       45211 non-null  object\n",
      " 8   contact    45211 non-null  object\n",
      " 9   day        45211 non-null  int64 \n",
      " 10  month      45211 non-null  object\n",
      " 11  duration   45211 non-null  int64 \n",
      " 12  campaign   45211 non-null  int64 \n",
      " 13  pdays      45211 non-null  int64 \n",
      " 14  previous   45211 non-null  int64 \n",
      " 15  poutcome   45211 non-null  object\n",
      " 16  Target     45211 non-null  object\n",
      "dtypes: int64(7), object(10)\n",
      "memory usage: 5.9+ MB\n"
     ]
    }
   ],
   "source": [
    "bank.info()"
   ]
  },
  {
   "cell_type": "code",
   "execution_count": 5,
   "id": "d3a7c406",
   "metadata": {},
   "outputs": [
    {
     "data": {
      "text/plain": [
       "age           int64\n",
       "job          object\n",
       "marital      object\n",
       "education    object\n",
       "default      object\n",
       "balance       int64\n",
       "housing      object\n",
       "loan         object\n",
       "contact      object\n",
       "day           int64\n",
       "month        object\n",
       "duration      int64\n",
       "campaign      int64\n",
       "pdays         int64\n",
       "previous      int64\n",
       "poutcome     object\n",
       "Target       object\n",
       "dtype: object"
      ]
     },
     "execution_count": 5,
     "metadata": {},
     "output_type": "execute_result"
    }
   ],
   "source": [
    "bank.dtypes"
   ]
  },
  {
   "cell_type": "code",
   "execution_count": 6,
   "id": "2792ac19",
   "metadata": {},
   "outputs": [
    {
     "data": {
      "text/plain": [
       "(45211, 17)"
      ]
     },
     "execution_count": 6,
     "metadata": {},
     "output_type": "execute_result"
    }
   ],
   "source": [
    "bank.shape"
   ]
  },
  {
   "cell_type": "code",
   "execution_count": 7,
   "id": "5f1f89ba",
   "metadata": {},
   "outputs": [
    {
     "data": {
      "text/plain": [
       "Index(['age', 'job', 'marital', 'education', 'default', 'balance', 'housing',\n",
       "       'loan', 'contact', 'day', 'month', 'duration', 'campaign', 'pdays',\n",
       "       'previous', 'poutcome', 'Target'],\n",
       "      dtype='object')"
      ]
     },
     "execution_count": 7,
     "metadata": {},
     "output_type": "execute_result"
    }
   ],
   "source": [
    "bank.columns"
   ]
  },
  {
   "cell_type": "markdown",
   "id": "e8e3bbb2",
   "metadata": {},
   "source": [
    "### Inferences:\n",
    "     Dataset contains both categorical and numerical features.\n",
    "     Datset contains totally 17 features including the target variable.\n",
    "     Datatypes is of integer 64 bit and object types.\n",
    "     "
   ]
  },
  {
   "cell_type": "markdown",
   "id": "4070e5bd",
   "metadata": {},
   "source": [
    "## 2. Data preprocessing\n"
   ]
  },
  {
   "cell_type": "markdown",
   "id": "a78a7e8d",
   "metadata": {},
   "source": [
    "### Checking for null values or missing values"
   ]
  },
  {
   "cell_type": "code",
   "execution_count": 8,
   "id": "77467cd3",
   "metadata": {},
   "outputs": [
    {
     "data": {
      "text/plain": [
       "age          0\n",
       "job          0\n",
       "marital      0\n",
       "education    0\n",
       "default      0\n",
       "balance      0\n",
       "housing      0\n",
       "loan         0\n",
       "contact      0\n",
       "day          0\n",
       "month        0\n",
       "duration     0\n",
       "campaign     0\n",
       "pdays        0\n",
       "previous     0\n",
       "poutcome     0\n",
       "Target       0\n",
       "dtype: int64"
      ]
     },
     "execution_count": 8,
     "metadata": {},
     "output_type": "execute_result"
    }
   ],
   "source": [
    "bank.isna().sum()"
   ]
  },
  {
   "cell_type": "code",
   "execution_count": 9,
   "id": "dcc59cf1",
   "metadata": {},
   "outputs": [
    {
     "data": {
      "text/html": [
       "<div>\n",
       "<style scoped>\n",
       "    .dataframe tbody tr th:only-of-type {\n",
       "        vertical-align: middle;\n",
       "    }\n",
       "\n",
       "    .dataframe tbody tr th {\n",
       "        vertical-align: top;\n",
       "    }\n",
       "\n",
       "    .dataframe thead th {\n",
       "        text-align: right;\n",
       "    }\n",
       "</style>\n",
       "<table border=\"1\" class=\"dataframe\">\n",
       "  <thead>\n",
       "    <tr style=\"text-align: right;\">\n",
       "      <th></th>\n",
       "      <th>age</th>\n",
       "      <th>balance</th>\n",
       "      <th>day</th>\n",
       "      <th>duration</th>\n",
       "      <th>campaign</th>\n",
       "      <th>pdays</th>\n",
       "      <th>previous</th>\n",
       "    </tr>\n",
       "  </thead>\n",
       "  <tbody>\n",
       "    <tr>\n",
       "      <th>count</th>\n",
       "      <td>45211.000000</td>\n",
       "      <td>45211.000000</td>\n",
       "      <td>45211.000000</td>\n",
       "      <td>45211.000000</td>\n",
       "      <td>45211.000000</td>\n",
       "      <td>45211.000000</td>\n",
       "      <td>45211.000000</td>\n",
       "    </tr>\n",
       "    <tr>\n",
       "      <th>mean</th>\n",
       "      <td>40.936210</td>\n",
       "      <td>1362.272058</td>\n",
       "      <td>15.806419</td>\n",
       "      <td>258.163080</td>\n",
       "      <td>2.763841</td>\n",
       "      <td>40.197828</td>\n",
       "      <td>0.580323</td>\n",
       "    </tr>\n",
       "    <tr>\n",
       "      <th>std</th>\n",
       "      <td>10.618762</td>\n",
       "      <td>3044.765829</td>\n",
       "      <td>8.322476</td>\n",
       "      <td>257.527812</td>\n",
       "      <td>3.098021</td>\n",
       "      <td>100.128746</td>\n",
       "      <td>2.303441</td>\n",
       "    </tr>\n",
       "    <tr>\n",
       "      <th>min</th>\n",
       "      <td>18.000000</td>\n",
       "      <td>-8019.000000</td>\n",
       "      <td>1.000000</td>\n",
       "      <td>0.000000</td>\n",
       "      <td>1.000000</td>\n",
       "      <td>-1.000000</td>\n",
       "      <td>0.000000</td>\n",
       "    </tr>\n",
       "    <tr>\n",
       "      <th>25%</th>\n",
       "      <td>33.000000</td>\n",
       "      <td>72.000000</td>\n",
       "      <td>8.000000</td>\n",
       "      <td>103.000000</td>\n",
       "      <td>1.000000</td>\n",
       "      <td>-1.000000</td>\n",
       "      <td>0.000000</td>\n",
       "    </tr>\n",
       "    <tr>\n",
       "      <th>50%</th>\n",
       "      <td>39.000000</td>\n",
       "      <td>448.000000</td>\n",
       "      <td>16.000000</td>\n",
       "      <td>180.000000</td>\n",
       "      <td>2.000000</td>\n",
       "      <td>-1.000000</td>\n",
       "      <td>0.000000</td>\n",
       "    </tr>\n",
       "    <tr>\n",
       "      <th>75%</th>\n",
       "      <td>48.000000</td>\n",
       "      <td>1428.000000</td>\n",
       "      <td>21.000000</td>\n",
       "      <td>319.000000</td>\n",
       "      <td>3.000000</td>\n",
       "      <td>-1.000000</td>\n",
       "      <td>0.000000</td>\n",
       "    </tr>\n",
       "    <tr>\n",
       "      <th>max</th>\n",
       "      <td>95.000000</td>\n",
       "      <td>102127.000000</td>\n",
       "      <td>31.000000</td>\n",
       "      <td>4918.000000</td>\n",
       "      <td>63.000000</td>\n",
       "      <td>871.000000</td>\n",
       "      <td>275.000000</td>\n",
       "    </tr>\n",
       "  </tbody>\n",
       "</table>\n",
       "</div>"
      ],
      "text/plain": [
       "                age        balance           day      duration      campaign  \\\n",
       "count  45211.000000   45211.000000  45211.000000  45211.000000  45211.000000   \n",
       "mean      40.936210    1362.272058     15.806419    258.163080      2.763841   \n",
       "std       10.618762    3044.765829      8.322476    257.527812      3.098021   \n",
       "min       18.000000   -8019.000000      1.000000      0.000000      1.000000   \n",
       "25%       33.000000      72.000000      8.000000    103.000000      1.000000   \n",
       "50%       39.000000     448.000000     16.000000    180.000000      2.000000   \n",
       "75%       48.000000    1428.000000     21.000000    319.000000      3.000000   \n",
       "max       95.000000  102127.000000     31.000000   4918.000000     63.000000   \n",
       "\n",
       "              pdays      previous  \n",
       "count  45211.000000  45211.000000  \n",
       "mean      40.197828      0.580323  \n",
       "std      100.128746      2.303441  \n",
       "min       -1.000000      0.000000  \n",
       "25%       -1.000000      0.000000  \n",
       "50%       -1.000000      0.000000  \n",
       "75%       -1.000000      0.000000  \n",
       "max      871.000000    275.000000  "
      ]
     },
     "execution_count": 9,
     "metadata": {},
     "output_type": "execute_result"
    }
   ],
   "source": [
    "bank.describe()"
   ]
  },
  {
   "cell_type": "code",
   "execution_count": 10,
   "id": "1983ce59",
   "metadata": {},
   "outputs": [
    {
     "data": {
      "text/plain": [
       "Index(['age', 'job', 'marital', 'education', 'default', 'balance', 'housing',\n",
       "       'loan', 'contact', 'day', 'month', 'duration', 'campaign', 'pdays',\n",
       "       'previous', 'poutcome', 'Target'],\n",
       "      dtype='object')"
      ]
     },
     "execution_count": 10,
     "metadata": {},
     "output_type": "execute_result"
    }
   ],
   "source": [
    "bank.columns"
   ]
  },
  {
   "cell_type": "code",
   "execution_count": 11,
   "id": "3d6ece7f",
   "metadata": {},
   "outputs": [
    {
     "data": {
      "text/plain": [
       "age           40.936210\n",
       "balance     1362.272058\n",
       "day           15.806419\n",
       "duration     258.163080\n",
       "campaign       2.763841\n",
       "pdays         40.197828\n",
       "previous       0.580323\n",
       "dtype: float64"
      ]
     },
     "execution_count": 11,
     "metadata": {},
     "output_type": "execute_result"
    }
   ],
   "source": [
    "### CALCULATING THE MEAN OF DATASET\n",
    "np.mean(bank,axis=0)"
   ]
  },
  {
   "cell_type": "code",
   "execution_count": 12,
   "id": "7c0d81e5",
   "metadata": {},
   "outputs": [
    {
     "name": "stdout",
     "output_type": "stream",
     "text": [
      "Categorical Features :\n",
      " ['job', 'marital', 'education', 'default', 'housing', 'loan', 'contact', 'month', 'poutcome'] \n",
      "\n",
      "Numerical Features :\n",
      " ['age', 'balance', 'day', 'duration', 'campaign', 'pdays', 'previous']\n"
     ]
    }
   ],
   "source": [
    "## IDENTIFYING CATEGORICAL AND NON CATEGORICAL FEATURES\n",
    "target='Target'\n",
    "non_features=[target]\n",
    "categorical_features=[col for col in bank.select_dtypes('object').columns if col not in non_features]\n",
    "numerical_features=[col for col in bank.select_dtypes(np.number).columns if col not in non_features]\n",
    "\n",
    "print(\"Categorical Features :\\n\",categorical_features,\"\\n\")\n",
    "print(\"Numerical Features :\\n\",numerical_features)"
   ]
  },
  {
   "cell_type": "markdown",
   "id": "93030825",
   "metadata": {},
   "source": [
    "### The dataset does not contain any null values/missing values."
   ]
  },
  {
   "cell_type": "markdown",
   "id": "4221a421",
   "metadata": {},
   "source": [
    "## Outliers detection and handling"
   ]
  },
  {
   "cell_type": "code",
   "execution_count": 13,
   "id": "8151b50c",
   "metadata": {},
   "outputs": [
    {
     "name": "stdout",
     "output_type": "stream",
     "text": [
      "Columns with Unknown  as Values - ['job', 'education', 'contact', 'poutcome']\n"
     ]
    }
   ],
   "source": [
    "cols = [col for col in bank.columns]\n",
    "col_with_unknown_value = []\n",
    "for col in cols:\n",
    "    if 'unknown' in bank[col].values:\n",
    "        col_with_unknown_value.append(col)\n",
    "        \n",
    "print(\"Columns with Unknown  as Values -\",col_with_unknown_value)"
   ]
  },
  {
   "cell_type": "code",
   "execution_count": 14,
   "id": "641d2a7d",
   "metadata": {},
   "outputs": [
    {
     "name": "stdout",
     "output_type": "stream",
     "text": [
      "Unknown values count in each columns : \n",
      "\n",
      "job  :  288\n",
      "education  :  1857\n",
      "contact  :  13020\n",
      "poutcome  :  36959\n"
     ]
    }
   ],
   "source": [
    "print(\"Unknown values count in each columns : \\n\")\n",
    "for col in col_with_unknown_value:\n",
    "    print(col,\" : \",bank[bank[col].str.contains('unknown')][col].count())"
   ]
  },
  {
   "cell_type": "code",
   "execution_count": 15,
   "id": "dc984e43",
   "metadata": {},
   "outputs": [
    {
     "name": "stdout",
     "output_type": "stream",
     "text": [
      "age  :-\n",
      "[58 44 33 47 35 28 42 43 41 29 53 57 51 45 60 56 32 25 40 39 52 46 36 49\n",
      " 59 37 50 54 55 48 24 38 31 30 27 34 23 26 61 22 21 20 66 62 83 75 67 70\n",
      " 65 68 64 69 72 71 19 76 85 63 90 82 73 74 78 80 94 79 77 86 95 81 18 89\n",
      " 84 87 92 93 88]\n",
      "   \n",
      "job  :-\n",
      "['management' 'technician' 'entrepreneur' 'blue-collar' 'unknown'\n",
      " 'retired' 'admin.' 'services' 'self-employed' 'unemployed' 'housemaid'\n",
      " 'student']\n",
      "   \n",
      "marital  :-\n",
      "['married' 'single' 'divorced']\n",
      "   \n",
      "education  :-\n",
      "['tertiary' 'secondary' 'unknown' 'primary']\n",
      "   \n",
      "default  :-\n",
      "['no' 'yes']\n",
      "   \n",
      "balance  :-\n",
      "[ 2143    29     2 ...  8205 14204 16353]\n",
      "   \n",
      "housing  :-\n",
      "['yes' 'no']\n",
      "   \n",
      "loan  :-\n",
      "['no' 'yes']\n",
      "   \n",
      "contact  :-\n",
      "['unknown' 'cellular' 'telephone']\n",
      "   \n",
      "day  :-\n",
      "[ 5  6  7  8  9 12 13 14 15 16 19 20 21 23 26 27 28 29 30  2  3  4 11 17\n",
      " 18 24 25  1 10 22 31]\n",
      "   \n",
      "month  :-\n",
      "['may' 'jun' 'jul' 'aug' 'oct' 'nov' 'dec' 'jan' 'feb' 'mar' 'apr' 'sep']\n",
      "   \n",
      "duration  :-\n",
      "[ 261  151   76 ... 1298 1246 1556]\n",
      "   \n",
      "campaign  :-\n",
      "[ 1  2  3  5  4  6  7  8  9 10 11 12 13 19 14 24 16 32 18 22 15 17 25 21\n",
      " 43 51 63 41 26 28 55 50 38 23 20 29 31 37 30 46 27 58 33 35 34 36 39 44]\n",
      "   \n",
      "pdays  :-\n",
      "[ -1 151 166  91  86 143 147  89 140 176 101 174 170 167 195 165 129 188\n",
      " 196 172 118 119 104 171 117 164 132 131 123 159 186 111 115 116 173 178\n",
      " 110 152  96 103 150 175 193 181 185 154 145 138 126 180 109 158 168  97\n",
      " 182 127 130 194 125 105 102  26 179  28 183 155 112 120 137 124 187 190\n",
      " 113 162 134 169 189   8 144 191 184 177   5  99 133  93  92  10 100 156\n",
      " 198 106 153 146 128   7 121 160 107  90  27 197 136 139 122 157 149 135\n",
      "  30 114  98 192 163  34  95 141  31 199  94 108  29 268 247 253 226 244\n",
      " 239 245 204 231 238 258 230 254 265  71 223 246 250 266 240 205 261 259\n",
      " 241 260 234 251 225 161 237 262 248 255 220 227 206 224 249 235 228 263\n",
      "   2 270 232 252 207 200 269 233 256 273 272 242 264 208 214 222 271 203\n",
      " 221 202 216 201 257 229 210 217  75 213  73  76 267 211 215  77 236  82\n",
      "   6 209 274   1 243 212 275  80 276   9 279  12 280  88 277  85  84 219\n",
      "  24  21 282  41 294  49 329 307 303 331 308 300  64 314 287 330 332 302\n",
      " 323 318 333  60 326 335 313 312 305 325 327 336 309 328 322  39 316 292\n",
      " 295 310 306 320 317 289  57 321 142 339 301 315 337 334 340 319  17  74\n",
      " 148 341 299 344 342 324 345 346 304 281 343 338  14 347  15 291 348 349\n",
      " 285 350 284  25 283 278  81   4  87  83  79  70  13 293  37  78  63  22\n",
      " 296 355  66  19  35 360 357 354 351 362 358 365 298 286 364 363  47 361\n",
      " 288 366 356 352 359 297 367 353 368  42 290  67 371 370 369  50  36 373\n",
      " 374 372 311 375 378  59 379  40  18  43  20  69  38 385  56  55  44 391\n",
      "  72 390  32  62 399 393  65 377 395 388 389 386  61 412 405 434 394 382\n",
      " 459 440 397 383  68 461 462 463 422  51 457 430 442 403 454 428 392 410\n",
      " 401 474 475 477 478  54 476 380 479  45  46 495  58  48 518  52 515 520\n",
      " 511 536 387 218  33 544 435 436 555 433 446 558 469 616 561 553 384 592\n",
      " 467 585 480 421 667 626 426 595 381 376 648 521 452 449 633 398  53 460\n",
      " 670 551 414 557 687 404 651 686 425 504 578 674 416 586 411 756 450 745\n",
      " 514 417 424 776 396 683 529 439 415 456 407 458 532 481 791 701 531 792\n",
      " 413 445 535 784 419 455 491 431 542 470 472 717 437   3 782 728 828 524\n",
      " 562 761 492 775 579 493 464 760 466 465 656 831 490 432 655 427 749 838\n",
      " 769 587 778 854 779 850 771 594 842 589 603 484 489 486 409 444 680 808\n",
      " 485 503 690 772 774 526 420 528 500 826 804 508 547 805 541 543 871 550\n",
      " 530]\n",
      "   \n",
      "previous  :-\n",
      "[  0   3   1   4   2  11  16   6   5  10  12   7  18   9  21   8  14  15\n",
      "  26  37  13  25  20  27  17  23  38  29  24  51 275  22  19  30  58  28\n",
      "  32  40  55  35  41]\n",
      "   \n",
      "poutcome  :-\n",
      "['unknown' 'failure' 'other' 'success']\n",
      "   \n",
      "Target  :-\n",
      "['no' 'yes']\n",
      "   \n"
     ]
    }
   ],
   "source": [
    "### FINDING THE UNIQUE VALUES IN EACH COLUMN\n",
    "for i in bank.columns:\n",
    "  print(i,\" :-\")\n",
    "  print(bank[i].unique())\n",
    "  print('   ')"
   ]
  },
  {
   "cell_type": "code",
   "execution_count": 16,
   "id": "50053c7b",
   "metadata": {},
   "outputs": [
    {
     "data": {
      "text/plain": [
       "no     39922\n",
       "yes     5289\n",
       "Name: Target, dtype: int64"
      ]
     },
     "execution_count": 16,
     "metadata": {},
     "output_type": "execute_result"
    }
   ],
   "source": [
    "bank['Target'].value_counts()"
   ]
  },
  {
   "cell_type": "code",
   "execution_count": 17,
   "id": "78e8c68f",
   "metadata": {},
   "outputs": [
    {
     "data": {
      "image/png": "[encoded data removed]",
      "text/plain": [
       "<Figure size 1440x720 with 7 Axes>"
      ]
     },
     "metadata": {
      "needs_background": "light"
     },
     "output_type": "display_data"
    }
   ],
   "source": [
    "plt.figure(figsize=(20,10))\n",
    "for i,col in enumerate(numerical_features,start=1):\n",
    "    plt.subplot(3,3,i);\n",
    "    sns.boxplot(y=bank[col],x=bank[target]);\n",
    "plt.show()"
   ]
  },
  {
   "cell_type": "markdown",
   "id": "31837027",
   "metadata": {},
   "source": [
    "##### From the above figure, we can conclude that age, balance, duration, campaign , pdays, previous  columns contains outliers . "
   ]
  },
  {
   "cell_type": "markdown",
   "id": "ece38ac4",
   "metadata": {},
   "source": [
    "### Handling outliers"
   ]
  },
  {
   "cell_type": "code",
   "execution_count": 18,
   "id": "41eec32b",
   "metadata": {},
   "outputs": [
    {
     "data": {
      "text/plain": [
       "secondary    23202\n",
       "tertiary     13301\n",
       "primary       6851\n",
       "unknown       1857\n",
       "Name: education, dtype: int64"
      ]
     },
     "execution_count": 18,
     "metadata": {},
     "output_type": "execute_result"
    }
   ],
   "source": [
    "bank['education'].value_counts()"
   ]
  },
  {
   "cell_type": "code",
   "execution_count": 19,
   "id": "d66dd74c",
   "metadata": {},
   "outputs": [],
   "source": [
    "## REPLACING THE UNKNOWN VALUE IN JOB AND EDUCATION COLUMNS.\n",
    "bank.loc[(bank['education']=='unknown') & (bank['job']=='management'), 'education'] = 'tertiary'\n",
    "bank.loc[(bank['education']=='unknown') & (bank['job']=='services'), 'education'] = 'secondary'\n",
    "bank.loc[(bank['education']=='unknown') & (bank['job']=='housemaid'), 'education'] = 'primary'\n",
    "bank['education'] = bank.education.replace('unknown',bank.education.mode()[0])\n",
    "bank['job'] = bank.job.replace('unknown',bank.job.mode()[0])"
   ]
  },
  {
   "cell_type": "code",
   "execution_count": 20,
   "id": "af282b43",
   "metadata": {},
   "outputs": [
    {
     "data": {
      "text/plain": [
       "secondary    24772\n",
       "tertiary     13543\n",
       "primary       6896\n",
       "Name: education, dtype: int64"
      ]
     },
     "execution_count": 20,
     "metadata": {},
     "output_type": "execute_result"
    }
   ],
   "source": [
    "bank['education'].value_counts()"
   ]
  },
  {
   "cell_type": "code",
   "execution_count": 21,
   "id": "505688ca",
   "metadata": {},
   "outputs": [
    {
     "data": {
      "text/plain": [
       "blue-collar      10020\n",
       "management        9458\n",
       "technician        7597\n",
       "admin.            5171\n",
       "services          4154\n",
       "retired           2264\n",
       "self-employed     1579\n",
       "entrepreneur      1487\n",
       "unemployed        1303\n",
       "housemaid         1240\n",
       "student            938\n",
       "Name: job, dtype: int64"
      ]
     },
     "execution_count": 21,
     "metadata": {},
     "output_type": "execute_result"
    }
   ],
   "source": [
    "bank['job'].value_counts()"
   ]
  },
  {
   "cell_type": "markdown",
   "id": "cd20dc79",
   "metadata": {},
   "source": [
    "## Outliers handling"
   ]
  },
  {
   "cell_type": "markdown",
   "id": "e8c004d2",
   "metadata": {},
   "source": [
    "#### Handling in AGE Column"
   ]
  },
  {
   "cell_type": "code",
   "execution_count": 22,
   "id": "85448006",
   "metadata": {},
   "outputs": [],
   "source": [
    "Q1=np.percentile(bank['age'],25,interpolation='midpoint')\n",
    "Q2=np.percentile(bank['age'],50,interpolation='midpoint')\n",
    "Q3=np.percentile(bank['age'],75,interpolation='midpoint')\n"
   ]
  },
  {
   "cell_type": "code",
   "execution_count": 23,
   "id": "e4f0e4b4",
   "metadata": {},
   "outputs": [
    {
     "name": "stdout",
     "output_type": "stream",
     "text": [
      "33.0\n",
      "39.0\n",
      "48.0\n"
     ]
    }
   ],
   "source": [
    "print(Q1)\n",
    "print(Q2)\n",
    "print(Q3)"
   ]
  },
  {
   "cell_type": "code",
   "execution_count": 24,
   "id": "8a521159",
   "metadata": {},
   "outputs": [
    {
     "data": {
      "text/plain": [
       "39.0"
      ]
     },
     "execution_count": 24,
     "metadata": {},
     "output_type": "execute_result"
    }
   ],
   "source": [
    "bank['age'].median()"
   ]
  },
  {
   "cell_type": "code",
   "execution_count": 25,
   "id": "5c6cf33d",
   "metadata": {},
   "outputs": [
    {
     "name": "stdout",
     "output_type": "stream",
     "text": [
      "Lower limit of age column 10.5\n",
      "Upper limit of age column  70.5\n"
     ]
    }
   ],
   "source": [
    "IQR=Q3-Q1\n",
    "low_lim=Q1-1.5*IQR\n",
    "up_lim=Q3+1.5*IQR\n",
    "print(\"Lower limit of age column\",low_lim)\n",
    "print(\"Upper limit of age column \",up_lim)"
   ]
  },
  {
   "cell_type": "code",
   "execution_count": 26,
   "id": "d6d02631",
   "metadata": {},
   "outputs": [],
   "source": [
    "outlier=[]\n",
    "for x in bank['age']:\n",
    "    if(x>up_lim)or(x<low_lim):\n",
    "        outlier.append(x)"
   ]
  },
  {
   "cell_type": "code",
   "execution_count": 27,
   "id": "e28c8a97",
   "metadata": {},
   "outputs": [
    {
     "name": "stdout",
     "output_type": "stream",
     "text": [
      "There are 487 Outliers in age column \n",
      "\n",
      "Outliers are: [83, 75, 75, 83, 75, 72, 71, 76, 83, 71, 85, 72, 90, 71, 82, 73, 74, 71, 75, 78, 85, 80, 71, 78, 73, 75, 94, 72, 83, 79, 78, 83, 73, 76, 83, 77, 73, 74, 73, 77, 71, 71, 80, 82, 75, 77, 78, 78, 86, 76, 72, 74, 77, 74, 79, 71, 74, 78, 73, 73, 95, 74, 71, 78, 71, 75, 75, 82, 74, 81, 76, 72, 75, 72, 71, 72, 77, 73, 85, 83, 78, 73, 79, 71, 71, 80, 72, 78, 79, 71, 82, 81, 79, 71, 79, 79, 73, 75, 72, 71, 75, 78, 75, 80, 80, 74, 73, 71, 72, 72, 77, 79, 73, 71, 80, 71, 83, 71, 73, 78, 72, 81, 81, 71, 74, 75, 82, 80, 76, 74, 74, 77, 71, 71, 77, 76, 72, 74, 74, 72, 73, 82, 77, 71, 79, 89, 76, 81, 74, 73, 71, 71, 77, 72, 84, 86, 72, 72, 76, 73, 74, 82, 71, 83, 72, 73, 73, 74, 72, 78, 86, 76, 79, 71, 81, 77, 82, 72, 73, 73, 74, 71, 73, 76, 71, 71, 83, 71, 80, 79, 77, 74, 84, 95, 77, 78, 79, 83, 83, 73, 77, 72, 74, 83, 76, 73, 81, 80, 75, 74, 75, 77, 83, 72, 81, 73, 74, 80, 72, 76, 72, 77, 74, 87, 76, 92, 78, 82, 78, 76, 73, 77, 76, 73, 82, 81, 80, 71, 76, 74, 75, 72, 80, 84, 87, 72, 76, 78, 73, 78, 81, 76, 71, 79, 73, 72, 82, 77, 72, 75, 76, 81, 77, 71, 75, 74, 75, 71, 78, 72, 77, 83, 72, 73, 81, 72, 80, 80, 86, 79, 71, 72, 79, 87, 81, 72, 75, 72, 84, 78, 89, 72, 73, 85, 87, 80, 81, 85, 79, 76, 74, 92, 77, 74, 81, 71, 73, 76, 80, 82, 72, 77, 76, 72, 78, 77, 74, 76, 77, 80, 76, 76, 71, 73, 84, 79, 77, 75, 76, 75, 71, 75, 75, 77, 82, 80, 72, 79, 78, 77, 71, 74, 71, 73, 90, 73, 83, 73, 76, 71, 79, 75, 80, 72, 77, 74, 82, 71, 75, 86, 86, 72, 77, 82, 72, 80, 84, 86, 80, 78, 73, 71, 80, 75, 73, 74, 76, 76, 73, 77, 80, 77, 76, 79, 77, 80, 74, 72, 77, 83, 80, 78, 78, 77, 75, 72, 74, 79, 73, 84, 78, 71, 78, 83, 80, 83, 73, 71, 76, 75, 71, 75, 72, 77, 74, 72, 71, 80, 79, 74, 72, 72, 80, 79, 86, 73, 93, 82, 82, 77, 71, 83, 80, 76, 78, 80, 93, 82, 71, 79, 75, 77, 77, 75, 77, 75, 88, 83, 72, 84, 77, 80, 84, 75, 83, 72, 75, 74, 88, 72, 74, 75, 78, 81, 82, 89, 81, 72, 77, 71, 79, 73, 75, 86, 75, 77, 77, 74, 73, 78, 78, 77, 71, 75, 73, 71, 72]\n"
     ]
    }
   ],
   "source": [
    "print('There are',len(outlier),'Outliers in age column','\\n')\n",
    "print('Outliers are:',outlier)"
   ]
  },
  {
   "cell_type": "code",
   "execution_count": 28,
   "id": "855f055d",
   "metadata": {},
   "outputs": [
    {
     "data": {
      "text/plain": [
       "Int64Index([29158, 29261, 29263, 29322, 29865, 30225, 30264, 30908, 31051,\n",
       "            31052,\n",
       "            ...\n",
       "            45101, 45104, 45109, 45118, 45141, 45163, 45191, 45204, 45207,\n",
       "            45208],\n",
       "           dtype='int64', length=487)"
      ]
     },
     "execution_count": 28,
     "metadata": {},
     "output_type": "execute_result"
    }
   ],
   "source": [
    "ind1=(bank['age']>up_lim)\n",
    "bank.loc[ind1].index"
   ]
  },
  {
   "cell_type": "code",
   "execution_count": 29,
   "id": "5279230e",
   "metadata": {},
   "outputs": [
    {
     "name": "stdout",
     "output_type": "stream",
     "text": [
      "29158,29261,29263,29322,29865,30225,30264,30908,31051,31052,31055,31057,31069,31077,31089,31099,31101,31108,31116,31125,31130,31145,31149,31151,31183,31189,31233,31255,31261,31285,31341,31365,31383,31393,31395,31414,31447,31527,31569,31647,31723,31816,32009,32032,32064,32068,32074,32089,32105,32160,32204,32321,32451,32689,32699,32802,33017,33360,33414,33455,33699,33706,33710,33719,33729,33751,33752,33766,33775,33777,33780,33803,33810,33811,33815,33827,33846,33860,34128,40363,40367,40368,40374,40381,40383,40389,40401,40402,40412,40471,40481,40515,40524,40526,40538,40561,40569,40571,40584,40586,40595,40621,40645,40655,40657,40674,40676,40688,40699,40702,40710,40712,40726,40732,40759,40766,40786,40789,40792,40816,40837,40838,40843,40851,40864,40872,40896,40910,40913,40932,40947,40954,40957,40972,40978,40987,40988,41007,41036,41069,41099,41101,41104,41129,41136,41162,41171,41179,41183,41197,41237,41242,41257,41258,41290,41291,41294,41331,41346,41352,41376,41387,41405,41406,41413,41423,41439,41448,41454,41469,41470,41505,41506,41515,41516,41522,41524,41543,41554,41557,41561,41562,41569,41594,41599,41600,41610,41615,41625,41630,41635,41649,41654,41663,41708,41733,41744,41753,41754,41755,41758,41768,41779,41789,41792,41817,41819,41822,41823,41837,41841,41842,41843,41851,41855,41858,41866,41880,41882,41885,41902,41903,41918,41923,41927,41934,41946,41947,41949,41951,41959,41963,41969,41979,41981,41982,42001,42004,42005,42026,42027,42044,42061,42074,42081,42120,42144,42160,42162,42164,42181,42193,42197,42198,42208,42239,42244,42248,42250,42251,42264,42266,42267,42268,42272,42284,42325,42333,42335,42364,42374,42376,42408,42419,42437,42440,42441,42459,42460,42462,42463,42481,42483,42494,42502,42504,42526,42545,42558,42573,42574,42582,42607,42619,42635,42650,42662,42690,42693,42709,42714,42727,42730,42731,42737,42747,42759,42765,42779,42795,42824,42825,42841,42848,42859,42863,42869,42874,42881,42891,42896,42906,42914,42919,42932,42945,42989,42990,42995,42996,43004,43009,43037,43052,43080,43103,43106,43117,43129,43136,43142,43154,43158,43167,43194,43213,43238,43250,43251,43268,43273,43276,43281,43284,43290,43291,43296,43299,43300,43315,43332,43343,43354,43365,43367,43385,43393,43394,43423,43431,43440,43446,43457,43477,43500,43508,43525,43527,43532,43535,43537,43555,43569,43580,43614,43620,43631,43635,43653,43654,43662,43666,43671,43696,43722,43731,43732,43736,43738,43745,43760,43773,43775,43832,43893,43896,43903,43915,43931,43944,43953,43974,44002,44045,44050,44051,44095,44102,44109,44127,44139,44143,44145,44151,44173,44234,44262,44279,44316,44334,44347,44356,44361,44370,44410,44415,44420,44466,44479,44480,44483,44504,44529,44534,44634,44643,44669,44688,44695,44701,44734,44738,44746,44752,44767,44780,44788,44791,44794,44800,44806,44812,44813,44830,44875,44892,44893,44894,44899,44932,44939,44952,44996,45010,45063,45078,45095,45101,45104,45109,45118,45141,45163,45191,45204,45207,45208\n"
     ]
    }
   ],
   "source": [
    "print(*bank.loc[ind1].index, sep=',')"
   ]
  },
  {
   "cell_type": "code",
   "execution_count": 30,
   "id": "e968d7de",
   "metadata": {},
   "outputs": [],
   "source": [
    "bank.drop([29158,29261,29263,29322,29865,30225,30264,30908,31051,31052,\n",
    "           31055,31057,31069,31077,31089,31099,31101,31108,31116,31125,31130,31145,31149,31151,31183,31189,31233,\n",
    "           31255,31261,31285,31341,31365,31383,31393,31395,31414,31447,31527,31569,31647,31723,31816,\n",
    "           32009,32032,32064,32068,32074,32089,32105,32160,32204,32321,32451,32689,32699,32802,33017,33360,33414,\n",
    "           33455,33699,33706,33710,33719,33729,33751,33752,33766,33775,33777,33780,33803,33810,33811,33815,33827,33846,33860,\n",
    "           34128,40363,40367,40368,40374,40381,40383,40389,40401,40402,40412,40471,40481,40515,40524,40526,40538,40561,40569,\n",
    "           40571,40584,40586,40595,40621,40645,40655,40657,40674,40676,40688,40699,40702,40710,40712,40726,40732,40759,40766,\n",
    "           40786,40789,40792,40816,40837,40838,40843,40851,40864,40872,40896,40910,40913,40932,40947,40954,40957,40972,40978,\n",
    "           40987,40988,41007,41036,41069,41099,41101,41104,41129,41136,41162,41171,41179,41183,41197,41237,41242,41257,41258,\n",
    "           41290,41291,41294,41331,41346,41352,41376,41387,41405,41406,41413,41423,41439,41448,41454,41469,41470,41505,41506,\n",
    "           41515,41516,41522,41524,41543,41554,41557,41561,41562,41569,41594,41599,41600,41610,41615,41625,41630,41635,41649,\n",
    "           41654,41663,41708,41733,41744,41753,41754,41755,41758,41768,41779,41789,41792,41817,41819,41822,41823,41837,41841,\n",
    "           41842,41843,41851,41855,41858,41866,41880,41882,41885,41902,41903,41918,41923,41927,41934,41946,41947,41949,41951,\n",
    "           41959,41963,41969,41979,41981,41982,42001,42004,42005,42026,42027,42044,42061,42074,42081,42120,42144,42160,42162,\n",
    "           42164,42181,42193,42197,42198,42208,42239,42244,42248,42250,42251,42264,42266,42267,42268,42272,42284,42325,42333,\n",
    "           42335,42364,42374,42376,42408,42419,42437,42440,42441,42459,42460,42462,42463,42481,42483,42494,42502,42504,42526,\n",
    "           42545,42558,42573,42574,42582,42607,42619,42635,42650,42662,42690,42693,42709,42714,42727,42730,42731,42737,42747\n",
    "           ,42759,42765,42779,42795,42824,42825,42841,42848,42859,42863,42869,42874,42881,42891,42896,42906,42914,42919,42932,\n",
    "           42945,42989,42990,42995,42996,43004,43009,43037,43052,43080,43103,43106,43117,43129,43136,43142,43154,43158,43167,\n",
    "           43194,43213,43238,43250,43251,43268,43273,43276,43281,43284,43290,43291,43296,43299,43300,43315,43332,43343,43354,\n",
    "           43365,43367,43385,43393,43394,43423,43431,43440,43446,43457,43477,43500,43508,43525,43527,43532,43535,43537,43555,\n",
    "           43569,43580,43614,43620,43631,43635,43653,43654,43662,43666,43671,43696,43722,43731,43732,43736,43738,43745,43760,\n",
    "           43773,43775,43832,43893,43896,43903,43915,43931,43944,43953,43974,44002,44045,44050,44051,44095,44102,44109,44127,\n",
    "           44139,44143,44145,44151,44173,44234,44262,44279,44316,44334,44347,44356,44361,44370,44410,44415,44420,44466,44479,\n",
    "           44480,44483,44504,44529,44534,44634,44643,44669,44688,44695,44701,44734,44738,44746,44752,44767,44780,44788,44791,44794,44800,44806,44812,44813,44830,44875,44892,44893,\n",
    "           44894,44899,44932,44939,44952,44996,45010,45063,45078,45095,45101,45104,45109,45118,45141,45163,45191,45204,45207,45208],inplace=True)"
   ]
  },
  {
   "cell_type": "code",
   "execution_count": 31,
   "id": "85a2ba21",
   "metadata": {},
   "outputs": [
    {
     "data": {
      "text/plain": [
       "Text(0.5, 1.0, 'box plot of age')"
      ]
     },
     "execution_count": 31,
     "metadata": {},
     "output_type": "execute_result"
    },
    {
     "data": {
      "image/png": "[encoded data removed]",
      "text/plain": [
       "<Figure size 432x288 with 1 Axes>"
      ]
     },
     "metadata": {
      "needs_background": "light"
     },
     "output_type": "display_data"
    }
   ],
   "source": [
    "plt.boxplot(bank['age'])\n",
    "plt.title(\"box plot of age\")"
   ]
  },
  {
   "cell_type": "markdown",
   "id": "5000d29b",
   "metadata": {},
   "source": [
    "#### Handling in Balance, Duration, Campaign, Pdays, Previous"
   ]
  },
  {
   "cell_type": "code",
   "execution_count": 32,
   "id": "d3f39ca2",
   "metadata": {},
   "outputs": [],
   "source": [
    "withOutliers = [ 'balance', 'duration', 'campaign','pdays','previous']\n",
    "\n",
    "IQR=bank[withOutliers].describe().T['75%']-bank[withOutliers].describe().T['25%']\n",
    "\n",
    "Lower_lim,Upper_lim = bank[withOutliers].describe().T['25%']-(IQR*1.5),bank[withOutliers].describe().T['75%']+(IQR*1.5)\n",
    "\n",
    "\n",
    "for i in withOutliers:\n",
    "    bank[i][bank[i]>Upper_lim[i]]=Upper_lim[i];\n",
    "    bank[i][bank[i]<Lower_lim[i]]=Lower_lim[i]"
   ]
  },
  {
   "cell_type": "code",
   "execution_count": 33,
   "id": "99edc833",
   "metadata": {},
   "outputs": [
    {
     "data": {
      "image/png": "[encoded data removed]",
      "text/plain": [
       "<Figure size 864x864 with 16 Axes>"
      ]
     },
     "metadata": {
      "needs_background": "light"
     },
     "output_type": "display_data"
    }
   ],
   "source": [
    "bank[withOutliers].plot(kind='box',subplots=True, layout=(4,4), fontsize=8, figsize=(12,12));"
   ]
  },
  {
   "cell_type": "markdown",
   "id": "9b8d50c8",
   "metadata": {},
   "source": [
    "## Feature Reduction"
   ]
  },
  {
   "cell_type": "markdown",
   "id": "775fc90d",
   "metadata": {},
   "source": [
    "Here , we are dropping less meaningful features."
   ]
  },
  {
   "cell_type": "code",
   "execution_count": 34,
   "id": "1adfc6f6",
   "metadata": {},
   "outputs": [
    {
     "data": {
      "text/plain": [
       "(44724, 17)"
      ]
     },
     "execution_count": 34,
     "metadata": {},
     "output_type": "execute_result"
    }
   ],
   "source": [
    "bank.shape"
   ]
  },
  {
   "cell_type": "code",
   "execution_count": 35,
   "id": "cd007a82",
   "metadata": {},
   "outputs": [],
   "source": [
    "##Removing the rows where call duration last for less than 10 sec."
   ]
  },
  {
   "cell_type": "code",
   "execution_count": 36,
   "id": "20f52a75",
   "metadata": {},
   "outputs": [],
   "source": [
    "bank['duration'] = bank['duration'].apply(lambda n:n/60).round(2)"
   ]
  },
  {
   "cell_type": "code",
   "execution_count": 37,
   "id": "e445c357",
   "metadata": {},
   "outputs": [
    {
     "name": "stdout",
     "output_type": "stream",
     "text": [
      "Rows count having call duration less than 10 Sec -\t 342\n"
     ]
    }
   ],
   "source": [
    "print('Rows count having call duration less than 10 Sec -\\t',bank[bank.duration < 10/60]['duration'].count())"
   ]
  },
  {
   "cell_type": "code",
   "execution_count": 38,
   "id": "fbcbff52",
   "metadata": {},
   "outputs": [],
   "source": [
    "bank = bank.drop(bank[bank.duration < 10/60].index, axis = 0, inplace = False)"
   ]
  },
  {
   "cell_type": "code",
   "execution_count": 39,
   "id": "958904e4",
   "metadata": {},
   "outputs": [
    {
     "data": {
      "text/plain": [
       "(44382, 17)"
      ]
     },
     "execution_count": 39,
     "metadata": {},
     "output_type": "execute_result"
    }
   ],
   "source": [
    "bank.shape"
   ]
  },
  {
   "cell_type": "markdown",
   "id": "500bada2",
   "metadata": {},
   "source": [
    "## 4. EXPLORATORY DATA ANALYSIS"
   ]
  },
  {
   "cell_type": "code",
   "execution_count": 40,
   "id": "8d06ad90",
   "metadata": {},
   "outputs": [
    {
     "data": {
      "text/plain": [
       "(44382, 17)"
      ]
     },
     "execution_count": 40,
     "metadata": {},
     "output_type": "execute_result"
    }
   ],
   "source": [
    "## SHAPE OF THE DATASET\n",
    "bank.shape"
   ]
  },
  {
   "cell_type": "code",
   "execution_count": 41,
   "id": "3d409d9b",
   "metadata": {},
   "outputs": [
    {
     "data": {
      "text/plain": [
       "Index(['age', 'job', 'marital', 'education', 'default', 'balance', 'housing',\n",
       "       'loan', 'contact', 'day', 'month', 'duration', 'campaign', 'pdays',\n",
       "       'previous', 'poutcome', 'Target'],\n",
       "      dtype='object')"
      ]
     },
     "execution_count": 41,
     "metadata": {},
     "output_type": "execute_result"
    }
   ],
   "source": [
    "bank.columns"
   ]
  },
  {
   "cell_type": "code",
   "execution_count": 42,
   "id": "bf566670",
   "metadata": {},
   "outputs": [
    {
     "data": {
      "text/plain": [
       "no     39312\n",
       "yes     5070\n",
       "Name: Target, dtype: int64"
      ]
     },
     "execution_count": 42,
     "metadata": {},
     "output_type": "execute_result"
    }
   ],
   "source": [
    "bank.Target.value_counts()"
   ]
  },
  {
   "cell_type": "code",
   "execution_count": 43,
   "id": "c764bf4f",
   "metadata": {},
   "outputs": [
    {
     "data": {
      "text/plain": [
       "no     37192\n",
       "yes     7190\n",
       "Name: loan, dtype: int64"
      ]
     },
     "execution_count": 43,
     "metadata": {},
     "output_type": "execute_result"
    }
   ],
   "source": [
    "bank.loan.value_counts()"
   ]
  },
  {
   "cell_type": "code",
   "execution_count": 44,
   "id": "bcdc843e",
   "metadata": {},
   "outputs": [
    {
     "data": {
      "text/plain": [
       "Text(0.5, 1.0, 'Job Distribution')"
      ]
     },
     "execution_count": 44,
     "metadata": {},
     "output_type": "execute_result"
    },
    {
     "data": {
      "image/png": "[encoded data removed]",
      "text/plain": [
       "<Figure size 1872x864 with 1 Axes>"
      ]
     },
     "metadata": {
      "needs_background": "light"
     },
     "output_type": "display_data"
    }
   ],
   "source": [
    "## JOB DISTRIBUTION ANALYSIS\n",
    "\n",
    "plt.figure(figsize = (26,12))\n",
    "sns.countplot(x = 'job',data = bank)\n",
    "plt.xlabel(\"job\", fontsize=13)\n",
    "plt.ylabel('Count', fontsize=13)\n",
    "plt.title('Job Distribution', fontsize=15)"
   ]
  },
  {
   "cell_type": "markdown",
   "id": "f392c9ec",
   "metadata": {},
   "source": [
    "**More people are in blue-collar sector. Then management>technician>admin job>services>retired>self-employed>enetrepreneur>unemployed>housemaid>student**"
   ]
  },
  {
   "cell_type": "code",
   "execution_count": 45,
   "id": "10299317",
   "metadata": {},
   "outputs": [
    {
     "data": {
      "text/plain": [
       "Text(0.5, 1.0, 'Marital Status Analysis')"
      ]
     },
     "execution_count": 45,
     "metadata": {},
     "output_type": "execute_result"
    },
    {
     "data": {
      "image/png": "[encoded data removed]",
      "text/plain": [
       "<Figure size 432x288 with 1 Axes>"
      ]
     },
     "metadata": {
      "needs_background": "light"
     },
     "output_type": "display_data"
    }
   ],
   "source": [
    "## MARITAAL STATUS ANALYSIS\n",
    "\n",
    "sns.countplot(x = 'marital',data = bank)\n",
    "plt.xlabel(\"Marital\", fontsize=13)\n",
    "plt.ylabel('Count', fontsize=13)\n",
    "plt.title('Marital Status Analysis', fontsize=15)"
   ]
  },
  {
   "cell_type": "markdown",
   "id": "2769f025",
   "metadata": {},
   "source": [
    "**Most people are maaried who attend the calls.**"
   ]
  },
  {
   "cell_type": "code",
   "execution_count": 46,
   "id": "6147c9cf",
   "metadata": {},
   "outputs": [
    {
     "data": {
      "text/plain": [
       "<AxesSubplot:xlabel='education', ylabel='count'>"
      ]
     },
     "execution_count": 46,
     "metadata": {},
     "output_type": "execute_result"
    },
    {
     "data": {
      "image/png": "[encoded data removed]",
      "text/plain": [
       "<Figure size 432x288 with 1 Axes>"
      ]
     },
     "metadata": {
      "needs_background": "light"
     },
     "output_type": "display_data"
    }
   ],
   "source": [
    "sns.countplot(x='education', data=bank)"
   ]
  },
  {
   "cell_type": "markdown",
   "id": "77f35ae5",
   "metadata": {},
   "source": [
    "**Secondary education is higher than tertiary and primary.**"
   ]
  },
  {
   "cell_type": "code",
   "execution_count": 47,
   "id": "cc357346",
   "metadata": {},
   "outputs": [
    {
     "data": {
      "text/plain": [
       "<AxesSubplot:xlabel='education', ylabel='age'>"
      ]
     },
     "execution_count": 47,
     "metadata": {},
     "output_type": "execute_result"
    },
    {
     "data": {
      "image/png": "[encoded data removed]",
      "text/plain": [
       "<Figure size 432x288 with 1 Axes>"
      ]
     },
     "metadata": {
      "needs_background": "light"
     },
     "output_type": "display_data"
    }
   ],
   "source": [
    "sns.boxplot(x='education',y='age',hue='Target',data=bank)"
   ]
  },
  {
   "cell_type": "markdown",
   "id": "4b4126ce",
   "metadata": {},
   "source": [
    "**People with  primary education have taken deposits than the rest.**"
   ]
  },
  {
   "cell_type": "code",
   "execution_count": 48,
   "id": "c8411b1c",
   "metadata": {},
   "outputs": [
    {
     "data": {
      "text/plain": [
       "<AxesSubplot:xlabel='marital', ylabel='age'>"
      ]
     },
     "execution_count": 48,
     "metadata": {},
     "output_type": "execute_result"
    },
    {
     "data": {
      "image/png": "[encoded data removed]",
      "text/plain": [
       "<Figure size 432x288 with 1 Axes>"
      ]
     },
     "metadata": {
      "needs_background": "light"
     },
     "output_type": "display_data"
    }
   ],
   "source": [
    "sns.boxplot(x='marital',y='age',hue='Target',data=bank)"
   ]
  },
  {
   "cell_type": "markdown",
   "id": "5cad0a51",
   "metadata": {},
   "source": [
    "**Married and divorced people are on higher chances to suscribe a term depost compared to single people.**"
   ]
  },
  {
   "cell_type": "code",
   "execution_count": 50,
   "id": "8554cc35",
   "metadata": {},
   "outputs": [
    {
     "data": {
      "text/plain": [
       "Text(0.5, 1.0, 'Default Loan Distribution')"
      ]
     },
     "execution_count": 50,
     "metadata": {},
     "output_type": "execute_result"
    },
    {
     "data": {
      "image/png": "[encoded data removed]",
      "text/plain": [
       "<Figure size 432x288 with 1 Axes>"
      ]
     },
     "metadata": {
      "needs_background": "light"
     },
     "output_type": "display_data"
    }
   ],
   "source": [
    "sns.countplot(x = 'default',data = bank)\n",
    "plt.xlabel(\"Default\", fontsize=13)\n",
    "plt.ylabel('Count', fontsize=13)\n",
    "plt.title('Default Loan Distribution', fontsize=15) "
   ]
  },
  {
   "cell_type": "markdown",
   "id": "abab1845",
   "metadata": {},
   "source": [
    "**Clients having default loan are less than that of clients don't have.**"
   ]
  },
  {
   "cell_type": "code",
   "execution_count": 51,
   "id": "320c6fe2",
   "metadata": {},
   "outputs": [
    {
     "data": {
      "text/plain": [
       "Text(0.5, 1.0, 'Loan Distribution')"
      ]
     },
     "execution_count": 51,
     "metadata": {},
     "output_type": "execute_result"
    },
    {
     "data": {
      "image/png": "[encoded data removed]",
      "text/plain": [
       "<Figure size 432x288 with 1 Axes>"
      ]
     },
     "metadata": {
      "needs_background": "light"
     },
     "output_type": "display_data"
    }
   ],
   "source": [
    "plt.hist(x = 'loan',data = bank)\n",
    "plt.xlabel(\"Loan\", fontsize=15)\n",
    "plt.ylabel('Count', fontsize=15)\n",
    "plt.title('Loan Distribution', fontsize=15)## Most of the clients doesnot have personal loans.\n"
   ]
  },
  {
   "cell_type": "code",
   "execution_count": 52,
   "id": "210a0b28",
   "metadata": {},
   "outputs": [
    {
     "data": {
      "text/plain": [
       "Text(0.5, 1.0, 'Contact Distribution')"
      ]
     },
     "execution_count": 52,
     "metadata": {},
     "output_type": "execute_result"
    },
    {
     "data": {
      "image/png": "[encoded data removed]",
      "text/plain": [
       "<Figure size 432x288 with 1 Axes>"
      ]
     },
     "metadata": {
      "needs_background": "light"
     },
     "output_type": "display_data"
    }
   ],
   "source": [
    "sns.countplot(x = 'contact',data = bank)\n",
    "plt.xlabel(\"Contact\", fontsize=13)\n",
    "plt.ylabel('Count', fontsize=13)\n",
    "plt.title('Contact Distribution', fontsize=15)"
   ]
  },
  {
   "cell_type": "code",
   "execution_count": 53,
   "id": "ea070ed4",
   "metadata": {},
   "outputs": [
    {
     "name": "stdout",
     "output_type": "stream",
     "text": [
      "Contact:\n",
      " Unknown Contact: 12874 \n",
      " Cellular Contact: 28858 \n",
      " Telephone Contact: 2650\n"
     ]
    }
   ],
   "source": [
    "print('Contact:\\n Unknown Contact:'     , bank[bank['contact'] == 'unknown']     ['age'].count(),\n",
    "              '\\n Cellular Contact:'   , bank[bank['contact'] == 'cellular']    ['age'].count(),\n",
    "              '\\n Telephone Contact:'  , bank[bank['contact'] == 'telephone']   ['age'].count())"
   ]
  },
  {
   "cell_type": "markdown",
   "id": "887e039a",
   "metadata": {},
   "source": [
    "**Mostly clients are connected through cell phones.**"
   ]
  },
  {
   "cell_type": "code",
   "execution_count": 54,
   "id": "b9679f57",
   "metadata": {},
   "outputs": [
    {
     "data": {
      "text/plain": [
       "<AxesSubplot:xlabel='day'>"
      ]
     },
     "execution_count": 54,
     "metadata": {},
     "output_type": "execute_result"
    },
    {
     "data": {
      "image/png": "[encoded data removed]",
      "text/plain": [
       "<Figure size 432x288 with 1 Axes>"
      ]
     },
     "metadata": {
      "needs_background": "light"
     },
     "output_type": "display_data"
    }
   ],
   "source": [
    "sns.boxplot(x=bank[\"day\"])"
   ]
  },
  {
   "cell_type": "markdown",
   "id": "2cc73620",
   "metadata": {},
   "source": [
    "**The higher no.of calls are during 12-22 days of a month.**"
   ]
  },
  {
   "cell_type": "code",
   "execution_count": 55,
   "id": "2023e584",
   "metadata": {},
   "outputs": [
    {
     "data": {
      "text/plain": [
       "<AxesSubplot:xlabel='duration'>"
      ]
     },
     "execution_count": 55,
     "metadata": {},
     "output_type": "execute_result"
    },
    {
     "data": {
      "image/png": "[encoded data removed]",
      "text/plain": [
       "<Figure size 432x288 with 1 Axes>"
      ]
     },
     "metadata": {
      "needs_background": "light"
     },
     "output_type": "display_data"
    }
   ],
   "source": [
    "sns.boxplot(x=bank[\"duration\"])## Duration of a call to customer"
   ]
  },
  {
   "cell_type": "code",
   "execution_count": 56,
   "id": "2ec4c81a",
   "metadata": {},
   "outputs": [
    {
     "data": {
      "text/plain": [
       "Text(0.5, 1.0, 'Campaign Distribution')"
      ]
     },
     "execution_count": 56,
     "metadata": {},
     "output_type": "execute_result"
    },
    {
     "data": {
      "image/png": "[encoded data removed]",
      "text/plain": [
       "<Figure size 432x288 with 1 Axes>"
      ]
     },
     "metadata": {
      "needs_background": "light"
     },
     "output_type": "display_data"
    }
   ],
   "source": [
    "sns.boxplot(x = 'campaign', data = bank)\n",
    "plt.ylabel(\"Campaign\", fontsize=15)\n",
    "plt.title('Campaign Distribution', fontsize=15)"
   ]
  },
  {
   "cell_type": "code",
   "execution_count": 57,
   "id": "e9b21b56",
   "metadata": {},
   "outputs": [
    {
     "data": {
      "text/plain": [
       "Text(0.5, 1.0, 'Poutcome distribution')"
      ]
     },
     "execution_count": 57,
     "metadata": {},
     "output_type": "execute_result"
    },
    {
     "data": {
      "image/png": "[encoded data removed]",
      "text/plain": [
       "<Figure size 432x288 with 1 Axes>"
      ]
     },
     "metadata": {
      "needs_background": "light"
     },
     "output_type": "display_data"
    }
   ],
   "source": [
    "sns.countplot(x = 'poutcome', data = bank)\n",
    "plt.ylabel(\"Poutcome\", fontsize=13)\n",
    "plt.title('Poutcome distribution', fontsize=15)"
   ]
  },
  {
   "cell_type": "markdown",
   "id": "09c0f68e",
   "metadata": {},
   "source": [
    "**The outcome of the campaign is mostly unknown.**"
   ]
  },
  {
   "cell_type": "code",
   "execution_count": 58,
   "id": "6a139148",
   "metadata": {},
   "outputs": [
    {
     "data": {
      "text/plain": [
       "Text(0.5, 1.0, 'Target distribution')"
      ]
     },
     "execution_count": 58,
     "metadata": {},
     "output_type": "execute_result"
    },
    {
     "data": {
      "image/png": "[encoded data removed]",
      "text/plain": [
       "<Figure size 432x288 with 1 Axes>"
      ]
     },
     "metadata": {
      "needs_background": "light"
     },
     "output_type": "display_data"
    }
   ],
   "source": [
    "sns.countplot(x = 'Target', data =bank)\n",
    "plt.ylabel(\"Target\", fontsize=13)\n",
    "plt.title('Target distribution', fontsize=15)"
   ]
  },
  {
   "cell_type": "code",
   "execution_count": 59,
   "id": "4b5ba130",
   "metadata": {
    "scrolled": true
   },
   "outputs": [
    {
     "data": {
      "image/png": "[encoded data removed]",
      "text/plain": [
       "<Figure size 1152x576 with 2 Axes>"
      ]
     },
     "metadata": {
      "needs_background": "light"
     },
     "output_type": "display_data"
    }
   ],
   "source": [
    "fig= plt.figure(figsize=(16, 8))\n",
    "sns.heatmap(bank.corr(), annot=True);\n",
    "plt.xticks(rotation=45);"
   ]
  },
  {
   "cell_type": "markdown",
   "id": "9f5fe60f",
   "metadata": {},
   "source": [
    " **From the figure , we can't see any strong positive correlation between the features, \n",
    " day& age, day& duration constitute negative correlation.**"
   ]
  },
  {
   "cell_type": "code",
   "execution_count": 60,
   "id": "a98815cb",
   "metadata": {},
   "outputs": [
    {
     "data": {
      "text/plain": [
       "(array([0.5, 1.5]), [Text(0.5, 0, 'no'), Text(1.5, 0, 'yes')])"
      ]
     },
     "execution_count": 60,
     "metadata": {},
     "output_type": "execute_result"
    },
    {
     "data": {
      "image/png": "[encoded data removed]",
      "text/plain": [
       "<Figure size 1296x216 with 2 Axes>"
      ]
     },
     "metadata": {
      "needs_background": "light"
     },
     "output_type": "display_data"
    }
   ],
   "source": [
    "fig= plt.figure(figsize=(18, 3))\n",
    "sns.heatmap(pd.crosstab(index=bank['job'], columns=bank['Target']), annot=True, fmt='g')\n",
    "plt.xticks(rotation=45)"
   ]
  },
  {
   "cell_type": "code",
   "execution_count": 61,
   "id": "ccfd0f5f",
   "metadata": {},
   "outputs": [
    {
     "data": {
      "image/png": "[encoded data removed]",
      "text/plain": [
       "<Figure size 1296x216 with 2 Axes>"
      ]
     },
     "metadata": {
      "needs_background": "light"
     },
     "output_type": "display_data"
    }
   ],
   "source": [
    "fig= plt.figure(figsize=(18, 3))\n",
    "sns.heatmap(pd.crosstab(index=bank['contact'], columns=bank['Target']), annot=True,fmt='g')\n",
    "plt.xticks(rotation=45);"
   ]
  },
  {
   "cell_type": "code",
   "execution_count": 62,
   "id": "f7ae265a",
   "metadata": {},
   "outputs": [
    {
     "data": {
      "image/png": "[encoded data removed]",
      "text/plain": [
       "<Figure size 1080x720 with 9 Axes>"
      ]
     },
     "metadata": {},
     "output_type": "display_data"
    }
   ],
   "source": [
    "plt.style.use('seaborn-whitegrid')\n",
    "bank.hist(bins=20, figsize=(15,10), color='red')\n",
    "plt.show()"
   ]
  },
  {
   "cell_type": "markdown",
   "id": "6b29a7b8",
   "metadata": {},
   "source": [
    "### INFERENCES:-"
   ]
  },
  {
   "cell_type": "markdown",
   "id": "98949ad3",
   "metadata": {},
   "source": [
    "The ages are not that much important and dont make sense relate with other variables will not tell any insight.Just looking at the graphs we cannot conclude if age have a high effect to our Target variable.\n",
    "\n",
    "     If we consider the Job attribute we can see the count of 'Blue-collar' is higher than the other .Also the count for 'Management' is noticeable.\n",
    "    .Married people are more ,we can see in graph clearly.\n",
    "    .The clients having secondary education are more .And the clients having unknown eduction are less .\n",
    "    .The clients having bydefault credit are less than those who don't have bydefault credit.\n",
    "    .The clients having Housing loan are more by almost 5000 count than the clients who don't have Housing Loan.\n",
    "    .The clients having Personal loan are less than clients don't have Personal loan.Difference is almost 30000 count.\n",
    "    .The count of a clients who can be contacted by Cellular is high that the others."
   ]
  },
  {
   "cell_type": "code",
   "execution_count": 63,
   "id": "e1441170",
   "metadata": {},
   "outputs": [],
   "source": [
    "new_data=bank## Renaming the dataset to a new name."
   ]
  },
  {
   "cell_type": "code",
   "execution_count": 64,
   "id": "1fb47796",
   "metadata": {},
   "outputs": [
    {
     "data": {
      "text/plain": [
       "(44382, 17)"
      ]
     },
     "execution_count": 64,
     "metadata": {},
     "output_type": "execute_result"
    }
   ],
   "source": [
    "new_data.shape"
   ]
  },
  {
   "cell_type": "markdown",
   "id": "c4db0827",
   "metadata": {},
   "source": [
    "### Feature reduction"
   ]
  },
  {
   "cell_type": "code",
   "execution_count": 65,
   "id": "57cbe9b7",
   "metadata": {},
   "outputs": [
    {
     "data": {
      "text/html": [
       "<div>\n",
       "<style scoped>\n",
       "    .dataframe tbody tr th:only-of-type {\n",
       "        vertical-align: middle;\n",
       "    }\n",
       "\n",
       "    .dataframe tbody tr th {\n",
       "        vertical-align: top;\n",
       "    }\n",
       "\n",
       "    .dataframe thead th {\n",
       "        text-align: right;\n",
       "    }\n",
       "</style>\n",
       "<table border=\"1\" class=\"dataframe\">\n",
       "  <thead>\n",
       "    <tr style=\"text-align: right;\">\n",
       "      <th></th>\n",
       "      <th>age</th>\n",
       "      <th>default</th>\n",
       "      <th>balance</th>\n",
       "      <th>housing</th>\n",
       "      <th>loan</th>\n",
       "      <th>day</th>\n",
       "      <th>duration</th>\n",
       "      <th>campaign</th>\n",
       "      <th>pdays</th>\n",
       "      <th>previous</th>\n",
       "      <th>Target</th>\n",
       "    </tr>\n",
       "  </thead>\n",
       "  <tbody>\n",
       "    <tr>\n",
       "      <th>0</th>\n",
       "      <td>58</td>\n",
       "      <td>no</td>\n",
       "      <td>2143.0</td>\n",
       "      <td>yes</td>\n",
       "      <td>no</td>\n",
       "      <td>5</td>\n",
       "      <td>4.35</td>\n",
       "      <td>1</td>\n",
       "      <td>-1</td>\n",
       "      <td>0</td>\n",
       "      <td>no</td>\n",
       "    </tr>\n",
       "    <tr>\n",
       "      <th>1</th>\n",
       "      <td>44</td>\n",
       "      <td>no</td>\n",
       "      <td>29.0</td>\n",
       "      <td>yes</td>\n",
       "      <td>no</td>\n",
       "      <td>5</td>\n",
       "      <td>2.52</td>\n",
       "      <td>1</td>\n",
       "      <td>-1</td>\n",
       "      <td>0</td>\n",
       "      <td>no</td>\n",
       "    </tr>\n",
       "    <tr>\n",
       "      <th>2</th>\n",
       "      <td>33</td>\n",
       "      <td>no</td>\n",
       "      <td>2.0</td>\n",
       "      <td>yes</td>\n",
       "      <td>yes</td>\n",
       "      <td>5</td>\n",
       "      <td>1.27</td>\n",
       "      <td>1</td>\n",
       "      <td>-1</td>\n",
       "      <td>0</td>\n",
       "      <td>no</td>\n",
       "    </tr>\n",
       "    <tr>\n",
       "      <th>3</th>\n",
       "      <td>47</td>\n",
       "      <td>no</td>\n",
       "      <td>1506.0</td>\n",
       "      <td>yes</td>\n",
       "      <td>no</td>\n",
       "      <td>5</td>\n",
       "      <td>1.53</td>\n",
       "      <td>1</td>\n",
       "      <td>-1</td>\n",
       "      <td>0</td>\n",
       "      <td>no</td>\n",
       "    </tr>\n",
       "    <tr>\n",
       "      <th>4</th>\n",
       "      <td>33</td>\n",
       "      <td>no</td>\n",
       "      <td>1.0</td>\n",
       "      <td>no</td>\n",
       "      <td>no</td>\n",
       "      <td>5</td>\n",
       "      <td>3.30</td>\n",
       "      <td>1</td>\n",
       "      <td>-1</td>\n",
       "      <td>0</td>\n",
       "      <td>no</td>\n",
       "    </tr>\n",
       "  </tbody>\n",
       "</table>\n",
       "</div>"
      ],
      "text/plain": [
       "   age default  balance housing loan  day  duration  campaign  pdays  \\\n",
       "0   58      no   2143.0     yes   no    5      4.35         1     -1   \n",
       "1   44      no     29.0     yes   no    5      2.52         1     -1   \n",
       "2   33      no      2.0     yes  yes    5      1.27         1     -1   \n",
       "3   47      no   1506.0     yes   no    5      1.53         1     -1   \n",
       "4   33      no      1.0      no   no    5      3.30         1     -1   \n",
       "\n",
       "   previous Target  \n",
       "0         0     no  \n",
       "1         0     no  \n",
       "2         0     no  \n",
       "3         0     no  \n",
       "4         0     no  "
      ]
     },
     "execution_count": 65,
     "metadata": {},
     "output_type": "execute_result"
    }
   ],
   "source": [
    "data = new_data.drop(columns = ['job', 'marital', 'education','contact', 'month', 'poutcome'])\n",
    "data.head()### Here we are removing the above columns since they contribute less to our prediction"
   ]
  },
  {
   "cell_type": "markdown",
   "id": "4118ce3a",
   "metadata": {},
   "source": [
    "**Encoding the categorical features using label encoder.**"
   ]
  },
  {
   "cell_type": "code",
   "execution_count": 66,
   "id": "5c73512a",
   "metadata": {},
   "outputs": [],
   "source": [
    "# Label encoder order is alphabetical\n",
    "from sklearn.preprocessing import LabelEncoder\n",
    "labelencoder_X = LabelEncoder()\n",
    "\n",
    "data['default']  = labelencoder_X.fit_transform(data['default']) \n",
    "data['housing']  = labelencoder_X.fit_transform(data['housing']) \n",
    "data['loan']     = labelencoder_X.fit_transform(data['loan']) "
   ]
  },
  {
   "cell_type": "code",
   "execution_count": 67,
   "id": "803bcd54",
   "metadata": {},
   "outputs": [
    {
     "data": {
      "text/html": [
       "<div>\n",
       "<style scoped>\n",
       "    .dataframe tbody tr th:only-of-type {\n",
       "        vertical-align: middle;\n",
       "    }\n",
       "\n",
       "    .dataframe tbody tr th {\n",
       "        vertical-align: top;\n",
       "    }\n",
       "\n",
       "    .dataframe thead th {\n",
       "        text-align: right;\n",
       "    }\n",
       "</style>\n",
       "<table border=\"1\" class=\"dataframe\">\n",
       "  <thead>\n",
       "    <tr style=\"text-align: right;\">\n",
       "      <th></th>\n",
       "      <th>age</th>\n",
       "      <th>default</th>\n",
       "      <th>balance</th>\n",
       "      <th>housing</th>\n",
       "      <th>loan</th>\n",
       "      <th>day</th>\n",
       "      <th>duration</th>\n",
       "      <th>campaign</th>\n",
       "      <th>pdays</th>\n",
       "      <th>previous</th>\n",
       "      <th>Target</th>\n",
       "    </tr>\n",
       "  </thead>\n",
       "  <tbody>\n",
       "    <tr>\n",
       "      <th>0</th>\n",
       "      <td>58</td>\n",
       "      <td>0</td>\n",
       "      <td>2143.0</td>\n",
       "      <td>1</td>\n",
       "      <td>0</td>\n",
       "      <td>5</td>\n",
       "      <td>4.35</td>\n",
       "      <td>1</td>\n",
       "      <td>-1</td>\n",
       "      <td>0</td>\n",
       "      <td>no</td>\n",
       "    </tr>\n",
       "    <tr>\n",
       "      <th>1</th>\n",
       "      <td>44</td>\n",
       "      <td>0</td>\n",
       "      <td>29.0</td>\n",
       "      <td>1</td>\n",
       "      <td>0</td>\n",
       "      <td>5</td>\n",
       "      <td>2.52</td>\n",
       "      <td>1</td>\n",
       "      <td>-1</td>\n",
       "      <td>0</td>\n",
       "      <td>no</td>\n",
       "    </tr>\n",
       "    <tr>\n",
       "      <th>2</th>\n",
       "      <td>33</td>\n",
       "      <td>0</td>\n",
       "      <td>2.0</td>\n",
       "      <td>1</td>\n",
       "      <td>1</td>\n",
       "      <td>5</td>\n",
       "      <td>1.27</td>\n",
       "      <td>1</td>\n",
       "      <td>-1</td>\n",
       "      <td>0</td>\n",
       "      <td>no</td>\n",
       "    </tr>\n",
       "    <tr>\n",
       "      <th>3</th>\n",
       "      <td>47</td>\n",
       "      <td>0</td>\n",
       "      <td>1506.0</td>\n",
       "      <td>1</td>\n",
       "      <td>0</td>\n",
       "      <td>5</td>\n",
       "      <td>1.53</td>\n",
       "      <td>1</td>\n",
       "      <td>-1</td>\n",
       "      <td>0</td>\n",
       "      <td>no</td>\n",
       "    </tr>\n",
       "    <tr>\n",
       "      <th>4</th>\n",
       "      <td>33</td>\n",
       "      <td>0</td>\n",
       "      <td>1.0</td>\n",
       "      <td>0</td>\n",
       "      <td>0</td>\n",
       "      <td>5</td>\n",
       "      <td>3.30</td>\n",
       "      <td>1</td>\n",
       "      <td>-1</td>\n",
       "      <td>0</td>\n",
       "      <td>no</td>\n",
       "    </tr>\n",
       "  </tbody>\n",
       "</table>\n",
       "</div>"
      ],
      "text/plain": [
       "   age  default  balance  housing  loan  day  duration  campaign  pdays  \\\n",
       "0   58        0   2143.0        1     0    5      4.35         1     -1   \n",
       "1   44        0     29.0        1     0    5      2.52         1     -1   \n",
       "2   33        0      2.0        1     1    5      1.27         1     -1   \n",
       "3   47        0   1506.0        1     0    5      1.53         1     -1   \n",
       "4   33        0      1.0        0     0    5      3.30         1     -1   \n",
       "\n",
       "   previous Target  \n",
       "0         0     no  \n",
       "1         0     no  \n",
       "2         0     no  \n",
       "3         0     no  \n",
       "4         0     no  "
      ]
     },
     "execution_count": 67,
     "metadata": {},
     "output_type": "execute_result"
    }
   ],
   "source": [
    "data.head()"
   ]
  },
  {
   "cell_type": "markdown",
   "id": "28229151",
   "metadata": {},
   "source": [
    "## 5.Modelling the dataset"
   ]
  },
  {
   "cell_type": "markdown",
   "id": "60213eb6",
   "metadata": {},
   "source": [
    "**Since this is a classification problem we are using classification models.**"
   ]
  },
  {
   "cell_type": "code",
   "execution_count": 68,
   "id": "50622e4e",
   "metadata": {},
   "outputs": [],
   "source": [
    "# split the dataset into trainig and test set to train and evaluate the model respectively\n",
    "\n",
    "X = data.drop(['Target'],axis=1)\n",
    "y = data['Target']\n",
    "\n",
    "from sklearn.model_selection import train_test_split\n",
    "X_train, X_test, y_train, y_test = train_test_split(X,y,test_size = 0.30, random_state=0)\n"
   ]
  },
  {
   "cell_type": "code",
   "execution_count": 69,
   "id": "8016ca06",
   "metadata": {},
   "outputs": [
    {
     "data": {
      "text/plain": [
       "(31067, 10)"
      ]
     },
     "execution_count": 69,
     "metadata": {},
     "output_type": "execute_result"
    }
   ],
   "source": [
    "X_train.shape"
   ]
  },
  {
   "cell_type": "code",
   "execution_count": 70,
   "id": "42dd1372",
   "metadata": {},
   "outputs": [
    {
     "data": {
      "text/plain": [
       "(31067,)"
      ]
     },
     "execution_count": 70,
     "metadata": {},
     "output_type": "execute_result"
    }
   ],
   "source": [
    "y_train.shape"
   ]
  },
  {
   "cell_type": "code",
   "execution_count": 71,
   "id": "4394937a",
   "metadata": {},
   "outputs": [
    {
     "data": {
      "text/plain": [
       "(13315, 10)"
      ]
     },
     "execution_count": 71,
     "metadata": {},
     "output_type": "execute_result"
    }
   ],
   "source": [
    "X_test.shape"
   ]
  },
  {
   "cell_type": "code",
   "execution_count": 72,
   "id": "383507b0",
   "metadata": {},
   "outputs": [
    {
     "data": {
      "text/plain": [
       "(13315,)"
      ]
     },
     "execution_count": 72,
     "metadata": {},
     "output_type": "execute_result"
    }
   ],
   "source": [
    "y_test.shape"
   ]
  },
  {
   "cell_type": "markdown",
   "id": "1259e42e",
   "metadata": {},
   "source": [
    "### *Logistic Regression Model "
   ]
  },
  {
   "cell_type": "code",
   "execution_count": 73,
   "id": "d8bb130e",
   "metadata": {},
   "outputs": [
    {
     "name": "stdout",
     "output_type": "stream",
     "text": [
      "Accuracy of logistic regression classifier on test set: 0.89\n"
     ]
    }
   ],
   "source": [
    "from sklearn.metrics import confusion_matrix,accuracy_score,precision_score,recall_score,f1_score,classification_report\n",
    "from sklearn.linear_model import LogisticRegression\n",
    "logreg = LogisticRegression()\n",
    "logreg.fit(X_train, y_train)\n",
    "y_pred = logreg.predict(X_test)\n",
    "print('Accuracy of logistic regression classifier on test set: {:.2f}'.format(logreg.score(X_test, y_test)))"
   ]
  },
  {
   "cell_type": "code",
   "execution_count": 74,
   "id": "c87634a4",
   "metadata": {},
   "outputs": [
    {
     "name": "stdout",
     "output_type": "stream",
     "text": [
      "precision is : 0.7150399431187933\n",
      "recall is : 0.5692923241435093\n",
      "F1 score is : 0.5901904759649961\n"
     ]
    }
   ],
   "source": [
    "print(\"precision is :\",precision_score(y_test,y_pred,average='macro'))\n",
    "print(\"recall is :\",recall_score(y_test,y_pred,average='macro'))\n",
    "print(\"F1 score is :\",f1_score(y_test,y_pred,average='macro'))"
   ]
  },
  {
   "cell_type": "code",
   "execution_count": 75,
   "id": "e9b58626",
   "metadata": {},
   "outputs": [
    {
     "name": "stdout",
     "output_type": "stream",
     "text": [
      "              precision    recall  f1-score   support\n",
      "\n",
      "          no       0.90      0.98      0.94     11765\n",
      "         yes       0.53      0.16      0.24      1550\n",
      "\n",
      "    accuracy                           0.89     13315\n",
      "   macro avg       0.72      0.57      0.59     13315\n",
      "weighted avg       0.86      0.89      0.86     13315\n",
      "\n",
      "[[11551   214]\n",
      " [ 1307   243]]\n"
     ]
    }
   ],
   "source": [
    "print(classification_report(y_test, y_pred))\n",
    "print(confusion_matrix(y_test, y_pred))"
   ]
  },
  {
   "cell_type": "code",
   "execution_count": 76,
   "id": "987e2d83",
   "metadata": {},
   "outputs": [],
   "source": [
    "log=[]\n",
    "log.append(['Logistic Regression',round(f1_score(y_test,y_pred,average='macro'),5),round(accuracy_score(y_test,y_pred),5),round(precision_score(y_test,y_pred,average='macro'),5),round(recall_score(y_test,y_pred,average='macro'),5)])\n"
   ]
  },
  {
   "cell_type": "markdown",
   "id": "c6ad1352",
   "metadata": {},
   "source": [
    "### *KNN Classifier Model"
   ]
  },
  {
   "cell_type": "code",
   "execution_count": 77,
   "id": "844ec45b",
   "metadata": {},
   "outputs": [],
   "source": [
    "from sklearn.neighbors import KNeighborsClassifier"
   ]
  },
  {
   "cell_type": "code",
   "execution_count": 78,
   "id": "309c06a7",
   "metadata": {},
   "outputs": [],
   "source": [
    "acc_values=[]\n",
    "neighbors=np.arange(3,15)\n",
    "for k in neighbors:\n",
    "    classifier=KNeighborsClassifier(n_neighbors=k,metric='minkowski')\n",
    "    classifier.fit(X_train,y_train)\n",
    "    y_pred=classifier.predict(X_test)\n",
    "    acc=accuracy_score(y_test,y_pred)\n",
    "    acc_values.append(acc)"
   ]
  },
  {
   "cell_type": "code",
   "execution_count": 79,
   "id": "9c89d7a5",
   "metadata": {},
   "outputs": [
    {
     "data": {
      "text/plain": [
       "[0.8708974840405558,\n",
       " 0.8817123544874202,\n",
       " 0.8790086368757041,\n",
       " 0.882238077356365,\n",
       " 0.8809613218174991,\n",
       " 0.8826135936913255,\n",
       " 0.8825384904243334,\n",
       " 0.8841156590311678,\n",
       " 0.8834397296282388,\n",
       " 0.8843409688321442,\n",
       " 0.8838903492301915,\n",
       " 0.8838152459631994]"
      ]
     },
     "execution_count": 79,
     "metadata": {},
     "output_type": "execute_result"
    }
   ],
   "source": [
    "acc_values"
   ]
  },
  {
   "cell_type": "code",
   "execution_count": 80,
   "id": "f07fe52b",
   "metadata": {},
   "outputs": [
    {
     "data": {
      "text/plain": [
       "Text(0, 0.5, 'accuracy value')"
      ]
     },
     "execution_count": 80,
     "metadata": {},
     "output_type": "execute_result"
    },
    {
     "data": {
      "image/png": "[encoded data removed]",
      "text/plain": [
       "<Figure size 432x288 with 1 Axes>"
      ]
     },
     "metadata": {},
     "output_type": "display_data"
    }
   ],
   "source": [
    "plt.plot(neighbors,acc_values,'o-')\n",
    "plt.xlabel('kvalue')\n",
    "plt.ylabel('accuracy value')"
   ]
  },
  {
   "cell_type": "code",
   "execution_count": 81,
   "id": "7b96dc54",
   "metadata": {},
   "outputs": [],
   "source": [
    "classifier = KNeighborsClassifier(n_neighbors = 8, metric='minkowski')\n",
    "classifier.fit(X_train, y_train)\n",
    "y_pred =  classifier.predict(X_test)"
   ]
  },
  {
   "cell_type": "code",
   "execution_count": 82,
   "id": "563c4bcf",
   "metadata": {},
   "outputs": [
    {
     "name": "stdout",
     "output_type": "stream",
     "text": [
      "Accuracy is : 0.8826135936913255\n",
      "Precision is : 0.6678049598895679\n",
      "Recall is : 0.5154121711473343\n",
      "F1 score is : 0.5026703870539584\n"
     ]
    }
   ],
   "source": [
    "print(\"Accuracy is :\",accuracy_score(y_test,y_pred))\n",
    "print(\"Precision is :\",precision_score(y_test,y_pred,average='macro'))\n",
    "print(\"Recall is :\",recall_score(y_test,y_pred,average='macro'))\n",
    "print(\"F1 score is :\",f1_score(y_test,y_pred,average='macro'))"
   ]
  },
  {
   "cell_type": "code",
   "execution_count": 83,
   "id": "e6edc1b8",
   "metadata": {},
   "outputs": [
    {
     "data": {
      "text/plain": [
       "array([[11695,    70],\n",
       "       [ 1493,    57]], dtype=int64)"
      ]
     },
     "execution_count": 83,
     "metadata": {},
     "output_type": "execute_result"
    }
   ],
   "source": [
    "confusion_matrix(y_test,y_pred)"
   ]
  },
  {
   "cell_type": "code",
   "execution_count": 84,
   "id": "25820f01",
   "metadata": {},
   "outputs": [],
   "source": [
    "log.append(['KNN Classification',round(f1_score(y_test,y_pred,average='macro'),5),round(accuracy_score(y_test,y_pred),5),round(precision_score(y_test,y_pred,average='macro'),5),round(recall_score(y_test,y_pred,average='macro'),5)])"
   ]
  },
  {
   "cell_type": "markdown",
   "id": "902b461c",
   "metadata": {},
   "source": [
    "### *Decision Tree Model "
   ]
  },
  {
   "cell_type": "code",
   "execution_count": 85,
   "id": "7d9248d4",
   "metadata": {},
   "outputs": [],
   "source": [
    "from sklearn.tree import DecisionTreeClassifier"
   ]
  },
  {
   "cell_type": "code",
   "execution_count": 86,
   "id": "d102fef9",
   "metadata": {},
   "outputs": [],
   "source": [
    "dt_model=DecisionTreeClassifier()"
   ]
  },
  {
   "cell_type": "code",
   "execution_count": 87,
   "id": "cf6c75b9",
   "metadata": {},
   "outputs": [
    {
     "name": "stdout",
     "output_type": "stream",
     "text": [
      "Accuracy is : 0.8413819001126549\n",
      "Precision is : 0.6241866597873134\n",
      "Recall is : 0.6335215168007897\n",
      "F1 score is : 0.6285314195805016\n"
     ]
    }
   ],
   "source": [
    "dt_model.fit(X_train,y_train)\n",
    "y_pred=dt_model.predict(X_test)\n",
    "print(\"Accuracy is :\",accuracy_score(y_test,y_pred))\n",
    "print(\"Precision is :\",precision_score(y_test,y_pred,average='macro'))\n",
    "print(\"Recall is :\",recall_score(y_test,y_pred,average='macro'))\n",
    "print(\"F1 score is :\",f1_score(y_test,y_pred,average='macro'))"
   ]
  },
  {
   "cell_type": "code",
   "execution_count": 88,
   "id": "d8d74432",
   "metadata": {},
   "outputs": [
    {
     "name": "stdout",
     "output_type": "stream",
     "text": [
      "              precision    recall  f1-score   support\n",
      "\n",
      "          no       0.92      0.90      0.91     11765\n",
      "         yes       0.33      0.36      0.35      1550\n",
      "\n",
      "    accuracy                           0.84     13315\n",
      "   macro avg       0.62      0.63      0.63     13315\n",
      "weighted avg       0.85      0.84      0.84     13315\n",
      "\n",
      "Confusion Matrix is \n",
      " [[10641  1124]\n",
      " [  988   562]]\n"
     ]
    }
   ],
   "source": [
    "print(classification_report(y_test, y_pred))\n",
    "print(\"Confusion Matrix is \\n\",confusion_matrix(y_test, y_pred))"
   ]
  },
  {
   "cell_type": "code",
   "execution_count": 89,
   "id": "2a081a30",
   "metadata": {},
   "outputs": [],
   "source": [
    "log.append(['Decision Tree',round(f1_score(y_test,y_pred,average='macro'),5),round(accuracy_score(y_test,y_pred),5),round(precision_score(y_test,y_pred,average='macro'),5),round(recall_score(y_test,y_pred,average='macro'),5)])"
   ]
  },
  {
   "cell_type": "markdown",
   "id": "fce52938",
   "metadata": {},
   "source": [
    "### Random Forest Classifier Model"
   ]
  },
  {
   "cell_type": "code",
   "execution_count": 90,
   "id": "4f045e0f",
   "metadata": {},
   "outputs": [
    {
     "name": "stdout",
     "output_type": "stream",
     "text": [
      "accuracy score is 0.8859932407059707\n"
     ]
    }
   ],
   "source": [
    "from sklearn.ensemble import RandomForestClassifier\n",
    "rf=RandomForestClassifier()\n",
    "rf.fit(X_train,y_train)\n",
    "y_pred=rf.predict(X_test)\n",
    "print(\"accuracy score is\",accuracy_score(y_test,y_pred))\n"
   ]
  },
  {
   "cell_type": "code",
   "execution_count": 91,
   "id": "d30a0c61",
   "metadata": {},
   "outputs": [
    {
     "name": "stdout",
     "output_type": "stream",
     "text": [
      "Accuracy is : 0.8859932407059707\n",
      "Precision is : 0.7145784466392824\n",
      "Recall is : 0.6128324856394719\n",
      "F1 score is : 0.6407825273199901\n"
     ]
    }
   ],
   "source": [
    "print(\"Accuracy is :\",accuracy_score(y_test,y_pred))\n",
    "print(\"Precision is :\",precision_score(y_test,y_pred,average='macro'))\n",
    "print(\"Recall is :\",recall_score(y_test,y_pred,average='macro'))\n",
    "print(\"F1 score is :\",f1_score(y_test,y_pred,average='macro'))"
   ]
  },
  {
   "cell_type": "code",
   "execution_count": 92,
   "id": "746e4149",
   "metadata": {},
   "outputs": [],
   "source": [
    "log.append(['Random Forest',round(f1_score(y_test,y_pred,average='macro'),5),round(accuracy_score(y_test,y_pred),5),round(precision_score(y_test,y_pred,average='macro'),5),round(recall_score(y_test,y_pred,average='macro'),5)])"
   ]
  },
  {
   "cell_type": "markdown",
   "id": "89435fa4",
   "metadata": {},
   "source": [
    "### Gradient booster Model"
   ]
  },
  {
   "cell_type": "code",
   "execution_count": 93,
   "id": "a01f2eef",
   "metadata": {},
   "outputs": [
    {
     "name": "stdout",
     "output_type": "stream",
     "text": [
      "Accuracy is : 0.8886969583176868\n",
      "Precision is : 0.7302702768469927\n",
      "Recall is : 0.5975575449323445\n",
      "F1 score is : 0.6263470029185064\n"
     ]
    }
   ],
   "source": [
    "from sklearn.ensemble import GradientBoostingClassifier\n",
    "gm=GradientBoostingClassifier()\n",
    "gm.fit(X_train,y_train)\n",
    "y_pred=gm.predict(X_test)\n",
    "print(\"Accuracy is :\",accuracy_score(y_test,y_pred))\n",
    "print(\"Precision is :\",precision_score(y_test,y_pred,average='macro'))\n",
    "print(\"Recall is :\",recall_score(y_test,y_pred,average='macro'))\n",
    "print(\"F1 score is :\",f1_score(y_test,y_pred,average='macro'))"
   ]
  },
  {
   "cell_type": "code",
   "execution_count": 94,
   "id": "d7182a4f",
   "metadata": {},
   "outputs": [],
   "source": [
    "log.append(['Gradient Booster',round(f1_score(y_test,y_pred,average='macro'),5),round(accuracy_score(y_test,y_pred),5),round(precision_score(y_test,y_pred,average='macro'),5),round(recall_score(y_test,y_pred,average='macro'),5)])"
   ]
  },
  {
   "cell_type": "code",
   "execution_count": 95,
   "id": "bd47376f",
   "metadata": {},
   "outputs": [
    {
     "data": {
      "text/html": [
       "<div>\n",
       "<style scoped>\n",
       "    .dataframe tbody tr th:only-of-type {\n",
       "        vertical-align: middle;\n",
       "    }\n",
       "\n",
       "    .dataframe tbody tr th {\n",
       "        vertical-align: top;\n",
       "    }\n",
       "\n",
       "    .dataframe thead th {\n",
       "        text-align: right;\n",
       "    }\n",
       "</style>\n",
       "<table border=\"1\" class=\"dataframe\">\n",
       "  <thead>\n",
       "    <tr style=\"text-align: right;\">\n",
       "      <th></th>\n",
       "      <th>Algorithms</th>\n",
       "      <th>F1-Score</th>\n",
       "      <th>accuracy</th>\n",
       "      <th>precision</th>\n",
       "      <th>recall</th>\n",
       "    </tr>\n",
       "  </thead>\n",
       "  <tbody>\n",
       "    <tr>\n",
       "      <th>0</th>\n",
       "      <td>Logistic Regression</td>\n",
       "      <td>0.59019</td>\n",
       "      <td>0.88577</td>\n",
       "      <td>0.71504</td>\n",
       "      <td>0.56929</td>\n",
       "    </tr>\n",
       "    <tr>\n",
       "      <th>1</th>\n",
       "      <td>KNN Classification</td>\n",
       "      <td>0.50267</td>\n",
       "      <td>0.88261</td>\n",
       "      <td>0.66780</td>\n",
       "      <td>0.51541</td>\n",
       "    </tr>\n",
       "    <tr>\n",
       "      <th>2</th>\n",
       "      <td>Decision Tree</td>\n",
       "      <td>0.62853</td>\n",
       "      <td>0.84138</td>\n",
       "      <td>0.62419</td>\n",
       "      <td>0.63352</td>\n",
       "    </tr>\n",
       "    <tr>\n",
       "      <th>3</th>\n",
       "      <td>Random Forest</td>\n",
       "      <td>0.64078</td>\n",
       "      <td>0.88599</td>\n",
       "      <td>0.71458</td>\n",
       "      <td>0.61283</td>\n",
       "    </tr>\n",
       "    <tr>\n",
       "      <th>4</th>\n",
       "      <td>Gradient Booster</td>\n",
       "      <td>0.62635</td>\n",
       "      <td>0.88870</td>\n",
       "      <td>0.73027</td>\n",
       "      <td>0.59756</td>\n",
       "    </tr>\n",
       "  </tbody>\n",
       "</table>\n",
       "</div>"
      ],
      "text/plain": [
       "            Algorithms  F1-Score  accuracy  precision   recall\n",
       "0  Logistic Regression   0.59019   0.88577    0.71504  0.56929\n",
       "1   KNN Classification   0.50267   0.88261    0.66780  0.51541\n",
       "2        Decision Tree   0.62853   0.84138    0.62419  0.63352\n",
       "3        Random Forest   0.64078   0.88599    0.71458  0.61283\n",
       "4     Gradient Booster   0.62635   0.88870    0.73027  0.59756"
      ]
     },
     "execution_count": 95,
     "metadata": {},
     "output_type": "execute_result"
    }
   ],
   "source": [
    "df1 = pd.DataFrame(log, columns = ['Algorithms', 'F1-Score','accuracy','precision','recall'])\n",
    "df1"
   ]
  },
  {
   "cell_type": "markdown",
   "id": "f1fa9a25",
   "metadata": {},
   "source": [
    "### Inference :-  From all the above models Gradient Booster model shows better accuracy score than others"
   ]
  },
  {
   "cell_type": "markdown",
   "id": "97510661",
   "metadata": {},
   "source": [
    "## Feature importance"
   ]
  },
  {
   "cell_type": "code",
   "execution_count": 96,
   "id": "868aa9ec",
   "metadata": {},
   "outputs": [
    {
     "data": {
      "text/plain": [
       "duration    68.636123\n",
       "housing     12.597289\n",
       "age          7.571389\n",
       "day          4.217612\n",
       "balance      3.901969\n",
       "campaign     1.798795\n",
       "loan         1.276822\n",
       "default      0.000000\n",
       "pdays        0.000000\n",
       "previous     0.000000\n",
       "dtype: float64"
      ]
     },
     "execution_count": 96,
     "metadata": {},
     "output_type": "execute_result"
    }
   ],
   "source": [
    "pd.Series(gm.feature_importances_,index=X.columns).sort_values(ascending=False)*100"
   ]
  },
  {
   "cell_type": "markdown",
   "id": "3337c6ae",
   "metadata": {},
   "source": [
    "## 6. Tuning of hyper parameter"
   ]
  },
  {
   "cell_type": "code",
   "execution_count": 106,
   "id": "6f18455f",
   "metadata": {},
   "outputs": [
    {
     "data": {
      "text/plain": [
       "GradientBoostingClassifier(max_depth=5, n_estimators=1000)"
      ]
     },
     "execution_count": 106,
     "metadata": {},
     "output_type": "execute_result"
    }
   ],
   "source": [
    "gm.fit(X_train,y_train.values.ravel())"
   ]
  },
  {
   "cell_type": "code",
   "execution_count": 107,
   "id": "1c66bfd3",
   "metadata": {},
   "outputs": [
    {
     "data": {
      "text/plain": [
       "GradientBoostingClassifier(max_depth=5, n_estimators=1000)"
      ]
     },
     "execution_count": 107,
     "metadata": {},
     "output_type": "execute_result"
    }
   ],
   "source": [
    "gm=GradientBoostingClassifier(learning_rate =0.1,n_estimators=1000,max_depth=5,)\n",
    "gm.fit(X_train,y_train)"
   ]
  },
  {
   "cell_type": "code",
   "execution_count": 108,
   "id": "88027770",
   "metadata": {},
   "outputs": [
    {
     "name": "stdout",
     "output_type": "stream",
     "text": [
      "f1 score 0.9374043274998964\n"
     ]
    }
   ],
   "source": [
    "y_pred=gm.predict(X_test)\n",
    "print(\"f1 score\",f1_score(y_test,y_pred,  pos_label='no'))\n"
   ]
  },
  {
   "cell_type": "code",
   "execution_count": 109,
   "id": "57dc6e30",
   "metadata": {},
   "outputs": [
    {
     "name": "stdout",
     "output_type": "stream",
     "text": [
      "Accuracy is : 0.8863687570409313\n"
     ]
    }
   ],
   "source": [
    "print(\"Accuracy is :\",accuracy_score(y_test,y_pred))"
   ]
  },
  {
   "cell_type": "markdown",
   "id": "1d584bdc",
   "metadata": {},
   "source": [
    "#### f1_score of the gradient boosting model has been incresed by tuning the parameters"
   ]
  },
  {
   "cell_type": "markdown",
   "id": "46b40981",
   "metadata": {},
   "source": [
    "### DSA-NORKA BATCH -3\n",
    "#### TEAM-13:-\n",
    "   **KARUNNIA MENON M, LIYA CHACKO PANAKKAL, SAHEER MOHAMMED**"
   ]
  }
 ],
 "metadata": {
  "kernelspec": {
   "display_name": "Python 3",
   "language": "python",
   "name": "python3"
  },
  "language_info": {
   "codemirror_mode": {
    "name": "ipython",
    "version": 3
   },
   "file_extension": ".py",
   "mimetype": "text/x-python",
   "name": "python",
   "nbconvert_exporter": "python",
   "pygments_lexer": "ipython3",
   "version": "3.8.8"
  }
 },
 "nbformat": 4,
 "nbformat_minor": 5
}
